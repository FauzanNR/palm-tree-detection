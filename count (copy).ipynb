{
 "cells": [
  {
   "cell_type": "markdown",
   "metadata": {},
   "source": [
    "# Palm Tree Detection\n",
    "\n",
    "This project was intended to detect and count palm tree image with top-down view using YOLOv8 Architecture.\n",
    "I used YOLOv8 architecture because of its ability that are proven in the industry with well-documented project. YOLOv8 developed by Ulralytics also have good integration API to pytorch which can easly be deployed to a released product"
   ]
  },
  {
   "cell_type": "markdown",
   "metadata": {},
   "source": [
    "## Environment Setup\n",
    "\n",
    "I am using conda 24.11.3 with Linux Mint 21.1 system.\n",
    "Before continuing the process I would like to setting up the environment with conda. Make suere you have already install the miniconda or anaconda in your machine. By following this step you will creating project environment:\n",
    "1. create project folder\n",
    "    \n",
    "    ```bash\n",
    "    mkdir palm-tree-detection-with-yolov8\n",
    "    ```\n",
    "2. Go to the folder\n",
    "    \n",
    "    ```bash\n",
    "    cd mkdir palm-tree-detection-with-yolov8\n",
    "    ```\n",
    "3. Create conda environment in normal way\n",
    "\n",
    "    ```bash\n",
    "    conda create --name palm-tree-detection-with-yolov8 python=3.11 -y\n",
    "    ```\n",
    "    Due to my Linux's storage limit, I would like to make my conda env specific in my project folder. This line will create a hiden folder for the env\n",
    "   \n",
    "    ```bash\n",
    "        conda create --prefix=.conda-palm-tree-detection-with-yolov8 python=3.11 -y\n",
    "    ```\n",
    "\n",
    "4. after finish creating, activate the environment\n",
    "\n",
    "    ```bash\n",
    "    conda activate palm-tree-detection-with-yolov8\n",
    "    ```\n",
    "    Or if you are using Vscode:\n",
    "    <br>install this\n",
    "    ```bash\n",
    "    pip install ipykernel\n",
    "    ```\n",
    "\n",
    "    and select the kernel from there.\n",
    "    \n",
    "5. Install the Ultralytics library with CUDA\n",
    "    ```bash\n",
    "    conda install -c pytorch -c nvidia -c conda-forge pytorch torchvision pytorch-cuda=11.8 ultralytics\n",
    "    ```\n",
    "6. Move this ipynb file to the project folder\n"
   ]
  },
  {
   "cell_type": "markdown",
   "metadata": {},
   "source": [
    "## Data Gathering\n",
    "\n",
    "The data I used in this project was originally from https://universe.roboflow.com/cryospace-yylkk/palm-tree-label-200m-splitted and its already labled"
   ]
  },
  {
   "cell_type": "markdown",
   "metadata": {},
   "source": [
    "1. In the project folder ```palm-tree-detection-with-yolov8```, create dataset folder\n",
    "    ```bash\n",
    "    mkdir dataset\n",
    "    ```\n",
    "2. Download the dataset\n",
    " \n",
    "    ```bash\n",
    "    !curl -L \"https://universe.roboflow.com/ds/JVKquPWr8c?key=xC8w7Rxzla\" > roboflow.zip;\n",
    "    ```\n",
    "3. Extract the data into ```dataset``` folder and make sure it looks like this:\n",
    "```bash\n",
    "    dataset/\n",
    "    ├── train/\n",
    "    │   ├── images/\n",
    "    │   ├── labels/\n",
    "    ├── valid/\n",
    "    │   ├── images/\n",
    "    │   ├── labels/\n",
    "    ├── test/\n",
    "    │   ├── images/\n",
    "    │   ├── labels/\n",
    "    └── data.yaml\n",
    "```"
   ]
  },
  {
   "cell_type": "markdown",
   "metadata": {},
   "source": [
    "# Librareis setup"
   ]
  },
  {
   "cell_type": "code",
   "execution_count": 1,
   "metadata": {},
   "outputs": [
    {
     "name": "stdout",
     "output_type": "stream",
     "text": [
      "Python 3.11.11\n"
     ]
    }
   ],
   "source": [
    "#checking Python versions\n",
    "!python --version"
   ]
  },
  {
   "cell_type": "code",
   "execution_count": 2,
   "metadata": {},
   "outputs": [],
   "source": [
    "from ultralytics import YOLO\n",
    "import torch\n",
    "import os\n",
    "import cv2\n",
    "import numpy as np"
   ]
  },
  {
   "cell_type": "code",
   "execution_count": 3,
   "metadata": {},
   "outputs": [
    {
     "name": "stdout",
     "output_type": "stream",
     "text": [
      "YOLO(\n",
      "  (model): DetectionModel(\n",
      "    (model): Sequential(\n",
      "      (0): Conv(\n",
      "        (conv): Conv2d(3, 16, kernel_size=(3, 3), stride=(2, 2), padding=(1, 1), bias=False)\n",
      "        (bn): BatchNorm2d(16, eps=0.001, momentum=0.03, affine=True, track_running_stats=True)\n",
      "        (act): SiLU(inplace=True)\n",
      "      )\n",
      "      (1): Conv(\n",
      "        (conv): Conv2d(16, 32, kernel_size=(3, 3), stride=(2, 2), padding=(1, 1), bias=False)\n",
      "        (bn): BatchNorm2d(32, eps=0.001, momentum=0.03, affine=True, track_running_stats=True)\n",
      "        (act): SiLU(inplace=True)\n",
      "      )\n",
      "      (2): C2f(\n",
      "        (cv1): Conv(\n",
      "          (conv): Conv2d(32, 32, kernel_size=(1, 1), stride=(1, 1), bias=False)\n",
      "          (bn): BatchNorm2d(32, eps=0.001, momentum=0.03, affine=True, track_running_stats=True)\n",
      "          (act): SiLU(inplace=True)\n",
      "        )\n",
      "        (cv2): Conv(\n",
      "          (conv): Conv2d(48, 32, kernel_size=(1, 1), stride=(1, 1), bias=False)\n",
      "          (bn): BatchNorm2d(32, eps=0.001, momentum=0.03, affine=True, track_running_stats=True)\n",
      "          (act): SiLU(inplace=True)\n",
      "        )\n",
      "        (m): ModuleList(\n",
      "          (0): Bottleneck(\n",
      "            (cv1): Conv(\n",
      "              (conv): Conv2d(16, 16, kernel_size=(3, 3), stride=(1, 1), padding=(1, 1), bias=False)\n",
      "              (bn): BatchNorm2d(16, eps=0.001, momentum=0.03, affine=True, track_running_stats=True)\n",
      "              (act): SiLU(inplace=True)\n",
      "            )\n",
      "            (cv2): Conv(\n",
      "              (conv): Conv2d(16, 16, kernel_size=(3, 3), stride=(1, 1), padding=(1, 1), bias=False)\n",
      "              (bn): BatchNorm2d(16, eps=0.001, momentum=0.03, affine=True, track_running_stats=True)\n",
      "              (act): SiLU(inplace=True)\n",
      "            )\n",
      "          )\n",
      "        )\n",
      "      )\n",
      "      (3): Conv(\n",
      "        (conv): Conv2d(32, 64, kernel_size=(3, 3), stride=(2, 2), padding=(1, 1), bias=False)\n",
      "        (bn): BatchNorm2d(64, eps=0.001, momentum=0.03, affine=True, track_running_stats=True)\n",
      "        (act): SiLU(inplace=True)\n",
      "      )\n",
      "      (4): C2f(\n",
      "        (cv1): Conv(\n",
      "          (conv): Conv2d(64, 64, kernel_size=(1, 1), stride=(1, 1), bias=False)\n",
      "          (bn): BatchNorm2d(64, eps=0.001, momentum=0.03, affine=True, track_running_stats=True)\n",
      "          (act): SiLU(inplace=True)\n",
      "        )\n",
      "        (cv2): Conv(\n",
      "          (conv): Conv2d(128, 64, kernel_size=(1, 1), stride=(1, 1), bias=False)\n",
      "          (bn): BatchNorm2d(64, eps=0.001, momentum=0.03, affine=True, track_running_stats=True)\n",
      "          (act): SiLU(inplace=True)\n",
      "        )\n",
      "        (m): ModuleList(\n",
      "          (0-1): 2 x Bottleneck(\n",
      "            (cv1): Conv(\n",
      "              (conv): Conv2d(32, 32, kernel_size=(3, 3), stride=(1, 1), padding=(1, 1), bias=False)\n",
      "              (bn): BatchNorm2d(32, eps=0.001, momentum=0.03, affine=True, track_running_stats=True)\n",
      "              (act): SiLU(inplace=True)\n",
      "            )\n",
      "            (cv2): Conv(\n",
      "              (conv): Conv2d(32, 32, kernel_size=(3, 3), stride=(1, 1), padding=(1, 1), bias=False)\n",
      "              (bn): BatchNorm2d(32, eps=0.001, momentum=0.03, affine=True, track_running_stats=True)\n",
      "              (act): SiLU(inplace=True)\n",
      "            )\n",
      "          )\n",
      "        )\n",
      "      )\n",
      "      (5): Conv(\n",
      "        (conv): Conv2d(64, 128, kernel_size=(3, 3), stride=(2, 2), padding=(1, 1), bias=False)\n",
      "        (bn): BatchNorm2d(128, eps=0.001, momentum=0.03, affine=True, track_running_stats=True)\n",
      "        (act): SiLU(inplace=True)\n",
      "      )\n",
      "      (6): C2f(\n",
      "        (cv1): Conv(\n",
      "          (conv): Conv2d(128, 128, kernel_size=(1, 1), stride=(1, 1), bias=False)\n",
      "          (bn): BatchNorm2d(128, eps=0.001, momentum=0.03, affine=True, track_running_stats=True)\n",
      "          (act): SiLU(inplace=True)\n",
      "        )\n",
      "        (cv2): Conv(\n",
      "          (conv): Conv2d(256, 128, kernel_size=(1, 1), stride=(1, 1), bias=False)\n",
      "          (bn): BatchNorm2d(128, eps=0.001, momentum=0.03, affine=True, track_running_stats=True)\n",
      "          (act): SiLU(inplace=True)\n",
      "        )\n",
      "        (m): ModuleList(\n",
      "          (0-1): 2 x Bottleneck(\n",
      "            (cv1): Conv(\n",
      "              (conv): Conv2d(64, 64, kernel_size=(3, 3), stride=(1, 1), padding=(1, 1), bias=False)\n",
      "              (bn): BatchNorm2d(64, eps=0.001, momentum=0.03, affine=True, track_running_stats=True)\n",
      "              (act): SiLU(inplace=True)\n",
      "            )\n",
      "            (cv2): Conv(\n",
      "              (conv): Conv2d(64, 64, kernel_size=(3, 3), stride=(1, 1), padding=(1, 1), bias=False)\n",
      "              (bn): BatchNorm2d(64, eps=0.001, momentum=0.03, affine=True, track_running_stats=True)\n",
      "              (act): SiLU(inplace=True)\n",
      "            )\n",
      "          )\n",
      "        )\n",
      "      )\n",
      "      (7): Conv(\n",
      "        (conv): Conv2d(128, 256, kernel_size=(3, 3), stride=(2, 2), padding=(1, 1), bias=False)\n",
      "        (bn): BatchNorm2d(256, eps=0.001, momentum=0.03, affine=True, track_running_stats=True)\n",
      "        (act): SiLU(inplace=True)\n",
      "      )\n",
      "      (8): C2f(\n",
      "        (cv1): Conv(\n",
      "          (conv): Conv2d(256, 256, kernel_size=(1, 1), stride=(1, 1), bias=False)\n",
      "          (bn): BatchNorm2d(256, eps=0.001, momentum=0.03, affine=True, track_running_stats=True)\n",
      "          (act): SiLU(inplace=True)\n",
      "        )\n",
      "        (cv2): Conv(\n",
      "          (conv): Conv2d(384, 256, kernel_size=(1, 1), stride=(1, 1), bias=False)\n",
      "          (bn): BatchNorm2d(256, eps=0.001, momentum=0.03, affine=True, track_running_stats=True)\n",
      "          (act): SiLU(inplace=True)\n",
      "        )\n",
      "        (m): ModuleList(\n",
      "          (0): Bottleneck(\n",
      "            (cv1): Conv(\n",
      "              (conv): Conv2d(128, 128, kernel_size=(3, 3), stride=(1, 1), padding=(1, 1), bias=False)\n",
      "              (bn): BatchNorm2d(128, eps=0.001, momentum=0.03, affine=True, track_running_stats=True)\n",
      "              (act): SiLU(inplace=True)\n",
      "            )\n",
      "            (cv2): Conv(\n",
      "              (conv): Conv2d(128, 128, kernel_size=(3, 3), stride=(1, 1), padding=(1, 1), bias=False)\n",
      "              (bn): BatchNorm2d(128, eps=0.001, momentum=0.03, affine=True, track_running_stats=True)\n",
      "              (act): SiLU(inplace=True)\n",
      "            )\n",
      "          )\n",
      "        )\n",
      "      )\n",
      "      (9): SPPF(\n",
      "        (cv1): Conv(\n",
      "          (conv): Conv2d(256, 128, kernel_size=(1, 1), stride=(1, 1), bias=False)\n",
      "          (bn): BatchNorm2d(128, eps=0.001, momentum=0.03, affine=True, track_running_stats=True)\n",
      "          (act): SiLU(inplace=True)\n",
      "        )\n",
      "        (cv2): Conv(\n",
      "          (conv): Conv2d(512, 256, kernel_size=(1, 1), stride=(1, 1), bias=False)\n",
      "          (bn): BatchNorm2d(256, eps=0.001, momentum=0.03, affine=True, track_running_stats=True)\n",
      "          (act): SiLU(inplace=True)\n",
      "        )\n",
      "        (m): MaxPool2d(kernel_size=5, stride=1, padding=2, dilation=1, ceil_mode=False)\n",
      "      )\n",
      "      (10): Upsample(scale_factor=2.0, mode='nearest')\n",
      "      (11): Concat()\n",
      "      (12): C2f(\n",
      "        (cv1): Conv(\n",
      "          (conv): Conv2d(384, 128, kernel_size=(1, 1), stride=(1, 1), bias=False)\n",
      "          (bn): BatchNorm2d(128, eps=0.001, momentum=0.03, affine=True, track_running_stats=True)\n",
      "          (act): SiLU(inplace=True)\n",
      "        )\n",
      "        (cv2): Conv(\n",
      "          (conv): Conv2d(192, 128, kernel_size=(1, 1), stride=(1, 1), bias=False)\n",
      "          (bn): BatchNorm2d(128, eps=0.001, momentum=0.03, affine=True, track_running_stats=True)\n",
      "          (act): SiLU(inplace=True)\n",
      "        )\n",
      "        (m): ModuleList(\n",
      "          (0): Bottleneck(\n",
      "            (cv1): Conv(\n",
      "              (conv): Conv2d(64, 64, kernel_size=(3, 3), stride=(1, 1), padding=(1, 1), bias=False)\n",
      "              (bn): BatchNorm2d(64, eps=0.001, momentum=0.03, affine=True, track_running_stats=True)\n",
      "              (act): SiLU(inplace=True)\n",
      "            )\n",
      "            (cv2): Conv(\n",
      "              (conv): Conv2d(64, 64, kernel_size=(3, 3), stride=(1, 1), padding=(1, 1), bias=False)\n",
      "              (bn): BatchNorm2d(64, eps=0.001, momentum=0.03, affine=True, track_running_stats=True)\n",
      "              (act): SiLU(inplace=True)\n",
      "            )\n",
      "          )\n",
      "        )\n",
      "      )\n",
      "      (13): Upsample(scale_factor=2.0, mode='nearest')\n",
      "      (14): Concat()\n",
      "      (15): C2f(\n",
      "        (cv1): Conv(\n",
      "          (conv): Conv2d(192, 64, kernel_size=(1, 1), stride=(1, 1), bias=False)\n",
      "          (bn): BatchNorm2d(64, eps=0.001, momentum=0.03, affine=True, track_running_stats=True)\n",
      "          (act): SiLU(inplace=True)\n",
      "        )\n",
      "        (cv2): Conv(\n",
      "          (conv): Conv2d(96, 64, kernel_size=(1, 1), stride=(1, 1), bias=False)\n",
      "          (bn): BatchNorm2d(64, eps=0.001, momentum=0.03, affine=True, track_running_stats=True)\n",
      "          (act): SiLU(inplace=True)\n",
      "        )\n",
      "        (m): ModuleList(\n",
      "          (0): Bottleneck(\n",
      "            (cv1): Conv(\n",
      "              (conv): Conv2d(32, 32, kernel_size=(3, 3), stride=(1, 1), padding=(1, 1), bias=False)\n",
      "              (bn): BatchNorm2d(32, eps=0.001, momentum=0.03, affine=True, track_running_stats=True)\n",
      "              (act): SiLU(inplace=True)\n",
      "            )\n",
      "            (cv2): Conv(\n",
      "              (conv): Conv2d(32, 32, kernel_size=(3, 3), stride=(1, 1), padding=(1, 1), bias=False)\n",
      "              (bn): BatchNorm2d(32, eps=0.001, momentum=0.03, affine=True, track_running_stats=True)\n",
      "              (act): SiLU(inplace=True)\n",
      "            )\n",
      "          )\n",
      "        )\n",
      "      )\n",
      "      (16): Conv(\n",
      "        (conv): Conv2d(64, 64, kernel_size=(3, 3), stride=(2, 2), padding=(1, 1), bias=False)\n",
      "        (bn): BatchNorm2d(64, eps=0.001, momentum=0.03, affine=True, track_running_stats=True)\n",
      "        (act): SiLU(inplace=True)\n",
      "      )\n",
      "      (17): Concat()\n",
      "      (18): C2f(\n",
      "        (cv1): Conv(\n",
      "          (conv): Conv2d(192, 128, kernel_size=(1, 1), stride=(1, 1), bias=False)\n",
      "          (bn): BatchNorm2d(128, eps=0.001, momentum=0.03, affine=True, track_running_stats=True)\n",
      "          (act): SiLU(inplace=True)\n",
      "        )\n",
      "        (cv2): Conv(\n",
      "          (conv): Conv2d(192, 128, kernel_size=(1, 1), stride=(1, 1), bias=False)\n",
      "          (bn): BatchNorm2d(128, eps=0.001, momentum=0.03, affine=True, track_running_stats=True)\n",
      "          (act): SiLU(inplace=True)\n",
      "        )\n",
      "        (m): ModuleList(\n",
      "          (0): Bottleneck(\n",
      "            (cv1): Conv(\n",
      "              (conv): Conv2d(64, 64, kernel_size=(3, 3), stride=(1, 1), padding=(1, 1), bias=False)\n",
      "              (bn): BatchNorm2d(64, eps=0.001, momentum=0.03, affine=True, track_running_stats=True)\n",
      "              (act): SiLU(inplace=True)\n",
      "            )\n",
      "            (cv2): Conv(\n",
      "              (conv): Conv2d(64, 64, kernel_size=(3, 3), stride=(1, 1), padding=(1, 1), bias=False)\n",
      "              (bn): BatchNorm2d(64, eps=0.001, momentum=0.03, affine=True, track_running_stats=True)\n",
      "              (act): SiLU(inplace=True)\n",
      "            )\n",
      "          )\n",
      "        )\n",
      "      )\n",
      "      (19): Conv(\n",
      "        (conv): Conv2d(128, 128, kernel_size=(3, 3), stride=(2, 2), padding=(1, 1), bias=False)\n",
      "        (bn): BatchNorm2d(128, eps=0.001, momentum=0.03, affine=True, track_running_stats=True)\n",
      "        (act): SiLU(inplace=True)\n",
      "      )\n",
      "      (20): Concat()\n",
      "      (21): C2f(\n",
      "        (cv1): Conv(\n",
      "          (conv): Conv2d(384, 256, kernel_size=(1, 1), stride=(1, 1), bias=False)\n",
      "          (bn): BatchNorm2d(256, eps=0.001, momentum=0.03, affine=True, track_running_stats=True)\n",
      "          (act): SiLU(inplace=True)\n",
      "        )\n",
      "        (cv2): Conv(\n",
      "          (conv): Conv2d(384, 256, kernel_size=(1, 1), stride=(1, 1), bias=False)\n",
      "          (bn): BatchNorm2d(256, eps=0.001, momentum=0.03, affine=True, track_running_stats=True)\n",
      "          (act): SiLU(inplace=True)\n",
      "        )\n",
      "        (m): ModuleList(\n",
      "          (0): Bottleneck(\n",
      "            (cv1): Conv(\n",
      "              (conv): Conv2d(128, 128, kernel_size=(3, 3), stride=(1, 1), padding=(1, 1), bias=False)\n",
      "              (bn): BatchNorm2d(128, eps=0.001, momentum=0.03, affine=True, track_running_stats=True)\n",
      "              (act): SiLU(inplace=True)\n",
      "            )\n",
      "            (cv2): Conv(\n",
      "              (conv): Conv2d(128, 128, kernel_size=(3, 3), stride=(1, 1), padding=(1, 1), bias=False)\n",
      "              (bn): BatchNorm2d(128, eps=0.001, momentum=0.03, affine=True, track_running_stats=True)\n",
      "              (act): SiLU(inplace=True)\n",
      "            )\n",
      "          )\n",
      "        )\n",
      "      )\n",
      "      (22): Detect(\n",
      "        (cv2): ModuleList(\n",
      "          (0): Sequential(\n",
      "            (0): Conv(\n",
      "              (conv): Conv2d(64, 64, kernel_size=(3, 3), stride=(1, 1), padding=(1, 1), bias=False)\n",
      "              (bn): BatchNorm2d(64, eps=0.001, momentum=0.03, affine=True, track_running_stats=True)\n",
      "              (act): SiLU(inplace=True)\n",
      "            )\n",
      "            (1): Conv(\n",
      "              (conv): Conv2d(64, 64, kernel_size=(3, 3), stride=(1, 1), padding=(1, 1), bias=False)\n",
      "              (bn): BatchNorm2d(64, eps=0.001, momentum=0.03, affine=True, track_running_stats=True)\n",
      "              (act): SiLU(inplace=True)\n",
      "            )\n",
      "            (2): Conv2d(64, 64, kernel_size=(1, 1), stride=(1, 1))\n",
      "          )\n",
      "          (1): Sequential(\n",
      "            (0): Conv(\n",
      "              (conv): Conv2d(128, 64, kernel_size=(3, 3), stride=(1, 1), padding=(1, 1), bias=False)\n",
      "              (bn): BatchNorm2d(64, eps=0.001, momentum=0.03, affine=True, track_running_stats=True)\n",
      "              (act): SiLU(inplace=True)\n",
      "            )\n",
      "            (1): Conv(\n",
      "              (conv): Conv2d(64, 64, kernel_size=(3, 3), stride=(1, 1), padding=(1, 1), bias=False)\n",
      "              (bn): BatchNorm2d(64, eps=0.001, momentum=0.03, affine=True, track_running_stats=True)\n",
      "              (act): SiLU(inplace=True)\n",
      "            )\n",
      "            (2): Conv2d(64, 64, kernel_size=(1, 1), stride=(1, 1))\n",
      "          )\n",
      "          (2): Sequential(\n",
      "            (0): Conv(\n",
      "              (conv): Conv2d(256, 64, kernel_size=(3, 3), stride=(1, 1), padding=(1, 1), bias=False)\n",
      "              (bn): BatchNorm2d(64, eps=0.001, momentum=0.03, affine=True, track_running_stats=True)\n",
      "              (act): SiLU(inplace=True)\n",
      "            )\n",
      "            (1): Conv(\n",
      "              (conv): Conv2d(64, 64, kernel_size=(3, 3), stride=(1, 1), padding=(1, 1), bias=False)\n",
      "              (bn): BatchNorm2d(64, eps=0.001, momentum=0.03, affine=True, track_running_stats=True)\n",
      "              (act): SiLU(inplace=True)\n",
      "            )\n",
      "            (2): Conv2d(64, 64, kernel_size=(1, 1), stride=(1, 1))\n",
      "          )\n",
      "        )\n",
      "        (cv3): ModuleList(\n",
      "          (0): Sequential(\n",
      "            (0): Conv(\n",
      "              (conv): Conv2d(64, 80, kernel_size=(3, 3), stride=(1, 1), padding=(1, 1), bias=False)\n",
      "              (bn): BatchNorm2d(80, eps=0.001, momentum=0.03, affine=True, track_running_stats=True)\n",
      "              (act): SiLU(inplace=True)\n",
      "            )\n",
      "            (1): Conv(\n",
      "              (conv): Conv2d(80, 80, kernel_size=(3, 3), stride=(1, 1), padding=(1, 1), bias=False)\n",
      "              (bn): BatchNorm2d(80, eps=0.001, momentum=0.03, affine=True, track_running_stats=True)\n",
      "              (act): SiLU(inplace=True)\n",
      "            )\n",
      "            (2): Conv2d(80, 80, kernel_size=(1, 1), stride=(1, 1))\n",
      "          )\n",
      "          (1): Sequential(\n",
      "            (0): Conv(\n",
      "              (conv): Conv2d(128, 80, kernel_size=(3, 3), stride=(1, 1), padding=(1, 1), bias=False)\n",
      "              (bn): BatchNorm2d(80, eps=0.001, momentum=0.03, affine=True, track_running_stats=True)\n",
      "              (act): SiLU(inplace=True)\n",
      "            )\n",
      "            (1): Conv(\n",
      "              (conv): Conv2d(80, 80, kernel_size=(3, 3), stride=(1, 1), padding=(1, 1), bias=False)\n",
      "              (bn): BatchNorm2d(80, eps=0.001, momentum=0.03, affine=True, track_running_stats=True)\n",
      "              (act): SiLU(inplace=True)\n",
      "            )\n",
      "            (2): Conv2d(80, 80, kernel_size=(1, 1), stride=(1, 1))\n",
      "          )\n",
      "          (2): Sequential(\n",
      "            (0): Conv(\n",
      "              (conv): Conv2d(256, 80, kernel_size=(3, 3), stride=(1, 1), padding=(1, 1), bias=False)\n",
      "              (bn): BatchNorm2d(80, eps=0.001, momentum=0.03, affine=True, track_running_stats=True)\n",
      "              (act): SiLU(inplace=True)\n",
      "            )\n",
      "            (1): Conv(\n",
      "              (conv): Conv2d(80, 80, kernel_size=(3, 3), stride=(1, 1), padding=(1, 1), bias=False)\n",
      "              (bn): BatchNorm2d(80, eps=0.001, momentum=0.03, affine=True, track_running_stats=True)\n",
      "              (act): SiLU(inplace=True)\n",
      "            )\n",
      "            (2): Conv2d(80, 80, kernel_size=(1, 1), stride=(1, 1))\n",
      "          )\n",
      "        )\n",
      "        (dfl): DFL(\n",
      "          (conv): Conv2d(16, 1, kernel_size=(1, 1), stride=(1, 1), bias=False)\n",
      "        )\n",
      "      )\n",
      "    )\n",
      "  )\n",
      ")\n"
     ]
    }
   ],
   "source": [
    "#checking the model\n",
    "print(YOLO('yolov8n.pt'))"
   ]
  },
  {
   "cell_type": "code",
   "execution_count": 4,
   "metadata": {},
   "outputs": [
    {
     "name": "stdout",
     "output_type": "stream",
     "text": [
      "True\n",
      "NVIDIA GeForce GTX 1650\n"
     ]
    }
   ],
   "source": [
    "print(torch.cuda.is_available())\n",
    "print(torch.cuda.get_device_name(0))"
   ]
  },
  {
   "cell_type": "code",
   "execution_count": 5,
   "metadata": {},
   "outputs": [
    {
     "name": "stdout",
     "output_type": "stream",
     "text": [
      "train: train/images\n",
      "val: valid/images\n",
      "test: test/images\n",
      "\n",
      "names: \n",
      "  0: Palm-Tree\n"
     ]
    }
   ],
   "source": [
    "!cat dataset/data.yaml"
   ]
  },
  {
   "cell_type": "markdown",
   "metadata": {},
   "source": [
    "## Training"
   ]
  },
  {
   "cell_type": "code",
   "execution_count": 6,
   "metadata": {},
   "outputs": [],
   "source": [
    "absolute_path = os.getcwd()"
   ]
  },
  {
   "cell_type": "code",
   "execution_count": 7,
   "metadata": {},
   "outputs": [
    {
     "data": {
      "text/plain": [
       "'/media/dartoyo/SSD2P2/programming/python/palm-tree-detection/dataset/data.yaml'"
      ]
     },
     "execution_count": 7,
     "metadata": {},
     "output_type": "execute_result"
    }
   ],
   "source": [
    "data = f'{absolute_path}/dataset/data.yaml'\n",
    "data"
   ]
  },
  {
   "cell_type": "code",
   "execution_count": 17,
   "metadata": {},
   "outputs": [
    {
     "name": "stdout",
     "output_type": "stream",
     "text": [
      "New https://pypi.org/project/ultralytics/8.3.61 available 😃 Update with 'pip install -U ultralytics'\n",
      "Ultralytics 8.3.59 🚀 Python-3.11.11 torch-2.5.1 CUDA:0 (NVIDIA GeForce GTX 1650, 3904MiB)\n",
      "\u001b[34m\u001b[1mengine/trainer: \u001b[0mtask=detect, mode=train, model=yolov8n.pt, data=/media/dartoyo/SSD2P2/programming/python/palm-tree-detection/dataset/data.yaml, epochs=15, time=None, patience=100, batch=3, imgsz=640, save=True, save_period=-1, cache=False, device=0, workers=8, project=None, name=train18, exist_ok=False, pretrained=True, optimizer=auto, verbose=True, seed=0, deterministic=True, single_cls=False, rect=False, cos_lr=False, close_mosaic=10, resume=False, amp=True, fraction=1.0, profile=False, freeze=None, multi_scale=False, overlap_mask=True, mask_ratio=4, dropout=0.0, val=True, split=val, save_json=False, save_hybrid=False, conf=None, iou=0.7, max_det=300, half=False, dnn=False, plots=True, source=None, vid_stride=1, stream_buffer=False, visualize=False, augment=False, agnostic_nms=False, classes=None, retina_masks=False, embed=None, show=False, save_frames=False, save_txt=False, save_conf=False, save_crop=False, show_labels=True, show_conf=True, show_boxes=True, line_width=None, format=torchscript, keras=False, optimize=False, int8=False, dynamic=False, simplify=True, opset=None, workspace=None, nms=False, lr0=0.01, lrf=0.01, momentum=0.937, weight_decay=0.0005, warmup_epochs=3.0, warmup_momentum=0.8, warmup_bias_lr=0.1, box=7.5, cls=0.5, dfl=1.5, pose=12.0, kobj=1.0, nbs=64, hsv_h=0.015, hsv_s=0.7, hsv_v=0.4, degrees=0.0, translate=0.1, scale=0.5, shear=0.0, perspective=0.0, flipud=0.0, fliplr=0.5, bgr=0.0, mosaic=1.0, mixup=0.0, copy_paste=0.0, copy_paste_mode=flip, auto_augment=randaugment, erasing=0.4, crop_fraction=1.0, cfg=None, tracker=botsort.yaml, save_dir=/media/dartoyo/SSD2P2/programming/python/palm-tree-detection/runs/detect/train18\n",
      "Overriding model.yaml nc=80 with nc=1\n",
      "\n",
      "                   from  n    params  module                                       arguments                     \n",
      "  0                  -1  1       464  ultralytics.nn.modules.conv.Conv             [3, 16, 3, 2]                 \n",
      "  1                  -1  1      4672  ultralytics.nn.modules.conv.Conv             [16, 32, 3, 2]                \n",
      "  2                  -1  1      7360  ultralytics.nn.modules.block.C2f             [32, 32, 1, True]             \n",
      "  3                  -1  1     18560  ultralytics.nn.modules.conv.Conv             [32, 64, 3, 2]                \n",
      "  4                  -1  2     49664  ultralytics.nn.modules.block.C2f             [64, 64, 2, True]             \n",
      "  5                  -1  1     73984  ultralytics.nn.modules.conv.Conv             [64, 128, 3, 2]               \n",
      "  6                  -1  2    197632  ultralytics.nn.modules.block.C2f             [128, 128, 2, True]           \n",
      "  7                  -1  1    295424  ultralytics.nn.modules.conv.Conv             [128, 256, 3, 2]              \n",
      "  8                  -1  1    460288  ultralytics.nn.modules.block.C2f             [256, 256, 1, True]           \n",
      "  9                  -1  1    164608  ultralytics.nn.modules.block.SPPF            [256, 256, 5]                 \n",
      " 10                  -1  1         0  torch.nn.modules.upsampling.Upsample         [None, 2, 'nearest']          \n",
      " 11             [-1, 6]  1         0  ultralytics.nn.modules.conv.Concat           [1]                           \n",
      " 12                  -1  1    148224  ultralytics.nn.modules.block.C2f             [384, 128, 1]                 \n",
      " 13                  -1  1         0  torch.nn.modules.upsampling.Upsample         [None, 2, 'nearest']          \n",
      " 14             [-1, 4]  1         0  ultralytics.nn.modules.conv.Concat           [1]                           \n",
      " 15                  -1  1     37248  ultralytics.nn.modules.block.C2f             [192, 64, 1]                  \n",
      " 16                  -1  1     36992  ultralytics.nn.modules.conv.Conv             [64, 64, 3, 2]                \n",
      " 17            [-1, 12]  1         0  ultralytics.nn.modules.conv.Concat           [1]                           \n",
      " 18                  -1  1    123648  ultralytics.nn.modules.block.C2f             [192, 128, 1]                 \n",
      " 19                  -1  1    147712  ultralytics.nn.modules.conv.Conv             [128, 128, 3, 2]              \n",
      " 20             [-1, 9]  1         0  ultralytics.nn.modules.conv.Concat           [1]                           \n",
      " 21                  -1  1    493056  ultralytics.nn.modules.block.C2f             [384, 256, 1]                 \n",
      " 22        [15, 18, 21]  1    751507  ultralytics.nn.modules.head.Detect           [1, [64, 128, 256]]           \n",
      "Model summary: 225 layers, 3,011,043 parameters, 3,011,027 gradients\n",
      "\n",
      "Transferred 319/355 items from pretrained weights\n",
      "Freezing layer 'model.22.dfl.conv.weight'\n",
      "\u001b[34m\u001b[1mAMP: \u001b[0mchecks failed ❌. AMP training on NVIDIA GeForce GTX 1650 GPU may cause NaN losses or zero-mAP results, so AMP will be disabled during training.\n"
     ]
    },
    {
     "name": "stderr",
     "output_type": "stream",
     "text": [
      "\u001b[34m\u001b[1mtrain: \u001b[0mScanning /media/dartoyo/SSD2P2/programming/python/palm-tree-detection/dataset/train/labels.cache... 1902 images, 3 backgrounds, 0 corrupt: 100%|██████████| 1902/1902 [00:00<?, ?it/s]\n",
      "\u001b[34m\u001b[1mval: \u001b[0mScanning /media/dartoyo/SSD2P2/programming/python/palm-tree-detection/dataset/valid/labels.cache... 219 images, 0 backgrounds, 0 corrupt: 100%|██████████| 219/219 [00:00<?, ?it/s]\n"
     ]
    },
    {
     "name": "stdout",
     "output_type": "stream",
     "text": [
      "Plotting labels to /media/dartoyo/SSD2P2/programming/python/palm-tree-detection/runs/detect/train18/labels.jpg... \n",
      "\u001b[34m\u001b[1moptimizer:\u001b[0m 'optimizer=auto' found, ignoring 'lr0=0.01' and 'momentum=0.937' and determining best 'optimizer', 'lr0' and 'momentum' automatically... \n",
      "\u001b[34m\u001b[1moptimizer:\u001b[0m AdamW(lr=0.002, momentum=0.9) with parameter groups 57 weight(decay=0.0), 64 weight(decay=0.0004921875), 63 bias(decay=0.0)\n",
      "Image sizes 640 train, 640 val\n",
      "Using 8 dataloader workers\n",
      "Logging results to \u001b[1m/media/dartoyo/SSD2P2/programming/python/palm-tree-detection/runs/detect/train18\u001b[0m\n",
      "Starting training for 15 epochs...\n",
      "\n",
      "      Epoch    GPU_mem   box_loss   cls_loss   dfl_loss  Instances       Size\n"
     ]
    },
    {
     "name": "stderr",
     "output_type": "stream",
     "text": [
      "       1/15      1.94G      1.711      1.331      1.447        655        640: 100%|██████████| 634/634 [01:16<00:00,  8.26it/s]\n",
      "                 Class     Images  Instances      Box(P          R      mAP50  mAP50-95): 100%|██████████| 37/37 [00:03<00:00, 10.72it/s]\n"
     ]
    },
    {
     "name": "stdout",
     "output_type": "stream",
     "text": [
      "                   all        219      19666      0.925      0.956      0.976      0.586\n",
      "\n",
      "      Epoch    GPU_mem   box_loss   cls_loss   dfl_loss  Instances       Size\n"
     ]
    },
    {
     "name": "stderr",
     "output_type": "stream",
     "text": [
      "       2/15      1.56G       1.37     0.7424      1.219        372        640: 100%|██████████| 634/634 [01:14<00:00,  8.54it/s]\n",
      "                 Class     Images  Instances      Box(P          R      mAP50  mAP50-95): 100%|██████████| 37/37 [00:03<00:00, 11.36it/s]"
     ]
    },
    {
     "name": "stdout",
     "output_type": "stream",
     "text": [
      "                   all        219      19666      0.927      0.957      0.981      0.654\n"
     ]
    },
    {
     "name": "stderr",
     "output_type": "stream",
     "text": [
      "\n"
     ]
    },
    {
     "name": "stdout",
     "output_type": "stream",
     "text": [
      "\n",
      "      Epoch    GPU_mem   box_loss   cls_loss   dfl_loss  Instances       Size\n"
     ]
    },
    {
     "name": "stderr",
     "output_type": "stream",
     "text": [
      "       3/15      1.54G      1.339     0.6787      1.197        328        640: 100%|██████████| 634/634 [01:15<00:00,  8.43it/s]\n",
      "                 Class     Images  Instances      Box(P          R      mAP50  mAP50-95): 100%|██████████| 37/37 [00:03<00:00, 11.47it/s]"
     ]
    },
    {
     "name": "stdout",
     "output_type": "stream",
     "text": [
      "                   all        219      19666      0.925      0.955      0.979      0.634\n"
     ]
    },
    {
     "name": "stderr",
     "output_type": "stream",
     "text": [
      "\n"
     ]
    },
    {
     "name": "stdout",
     "output_type": "stream",
     "text": [
      "\n",
      "      Epoch    GPU_mem   box_loss   cls_loss   dfl_loss  Instances       Size\n"
     ]
    },
    {
     "name": "stderr",
     "output_type": "stream",
     "text": [
      "       4/15      1.59G      1.299     0.6346      1.179        427        640: 100%|██████████| 634/634 [01:17<00:00,  8.16it/s]\n",
      "                 Class     Images  Instances      Box(P          R      mAP50  mAP50-95): 100%|██████████| 37/37 [00:03<00:00, 11.21it/s]"
     ]
    },
    {
     "name": "stdout",
     "output_type": "stream",
     "text": [
      "                   all        219      19666      0.932      0.966      0.984      0.705\n"
     ]
    },
    {
     "name": "stderr",
     "output_type": "stream",
     "text": [
      "\n"
     ]
    },
    {
     "name": "stdout",
     "output_type": "stream",
     "text": [
      "\n",
      "      Epoch    GPU_mem   box_loss   cls_loss   dfl_loss  Instances       Size\n"
     ]
    },
    {
     "name": "stderr",
     "output_type": "stream",
     "text": [
      "       5/15      1.48G      1.265     0.6071       1.16        489        640: 100%|██████████| 634/634 [01:16<00:00,  8.28it/s]\n",
      "                 Class     Images  Instances      Box(P          R      mAP50  mAP50-95): 100%|██████████| 37/37 [00:03<00:00, 10.85it/s]\n"
     ]
    },
    {
     "name": "stdout",
     "output_type": "stream",
     "text": [
      "                   all        219      19666      0.931      0.961      0.982      0.689\n",
      "Closing dataloader mosaic\n",
      "\n",
      "      Epoch    GPU_mem   box_loss   cls_loss   dfl_loss  Instances       Size\n"
     ]
    },
    {
     "name": "stderr",
     "output_type": "stream",
     "text": [
      "       6/15      1.13G      1.296     0.5947      1.217        140        640: 100%|██████████| 634/634 [01:12<00:00,  8.73it/s]\n",
      "                 Class     Images  Instances      Box(P          R      mAP50  mAP50-95): 100%|██████████| 37/37 [00:03<00:00,  9.31it/s]\n"
     ]
    },
    {
     "name": "stdout",
     "output_type": "stream",
     "text": [
      "                   all        219      19666      0.926      0.958      0.978      0.613\n",
      "\n",
      "      Epoch    GPU_mem   box_loss   cls_loss   dfl_loss  Instances       Size\n"
     ]
    },
    {
     "name": "stderr",
     "output_type": "stream",
     "text": [
      "       7/15      1.07G      1.255     0.5678      1.186        144        640: 100%|██████████| 634/634 [01:13<00:00,  8.67it/s]\n",
      "                 Class     Images  Instances      Box(P          R      mAP50  mAP50-95): 100%|██████████| 37/37 [00:03<00:00, 11.69it/s]"
     ]
    },
    {
     "name": "stdout",
     "output_type": "stream",
     "text": [
      "                   all        219      19666      0.931      0.955      0.979      0.623\n"
     ]
    },
    {
     "name": "stderr",
     "output_type": "stream",
     "text": [
      "\n"
     ]
    },
    {
     "name": "stdout",
     "output_type": "stream",
     "text": [
      "\n",
      "      Epoch    GPU_mem   box_loss   cls_loss   dfl_loss  Instances       Size\n"
     ]
    },
    {
     "name": "stderr",
     "output_type": "stream",
     "text": [
      "       8/15      1.11G      1.217     0.5529      1.178        371        640: 100%|██████████| 634/634 [01:10<00:00,  8.96it/s]\n",
      "                 Class     Images  Instances      Box(P          R      mAP50  mAP50-95): 100%|██████████| 37/37 [00:03<00:00, 11.28it/s]"
     ]
    },
    {
     "name": "stdout",
     "output_type": "stream",
     "text": [
      "                   all        219      19666      0.922      0.961       0.98       0.65\n"
     ]
    },
    {
     "name": "stderr",
     "output_type": "stream",
     "text": [
      "\n"
     ]
    },
    {
     "name": "stdout",
     "output_type": "stream",
     "text": [
      "\n",
      "      Epoch    GPU_mem   box_loss   cls_loss   dfl_loss  Instances       Size\n"
     ]
    },
    {
     "name": "stderr",
     "output_type": "stream",
     "text": [
      "       9/15      1.07G      1.222     0.5486      1.181        252        640: 100%|██████████| 634/634 [01:10<00:00,  9.03it/s]\n",
      "                 Class     Images  Instances      Box(P          R      mAP50  mAP50-95): 100%|██████████| 37/37 [00:03<00:00, 10.62it/s]"
     ]
    },
    {
     "name": "stdout",
     "output_type": "stream",
     "text": [
      "                   all        219      19666       0.93      0.958      0.982      0.656\n"
     ]
    },
    {
     "name": "stderr",
     "output_type": "stream",
     "text": [
      "\n"
     ]
    },
    {
     "name": "stdout",
     "output_type": "stream",
     "text": [
      "\n",
      "      Epoch    GPU_mem   box_loss   cls_loss   dfl_loss  Instances       Size\n"
     ]
    },
    {
     "name": "stderr",
     "output_type": "stream",
     "text": [
      "      10/15      1.01G      1.203     0.5409      1.176        264        640: 100%|██████████| 634/634 [01:11<00:00,  8.84it/s]\n",
      "                 Class     Images  Instances      Box(P          R      mAP50  mAP50-95): 100%|██████████| 37/37 [00:03<00:00, 11.05it/s]"
     ]
    },
    {
     "name": "stdout",
     "output_type": "stream",
     "text": [
      "                   all        219      19666      0.932      0.964      0.983      0.695\n"
     ]
    },
    {
     "name": "stderr",
     "output_type": "stream",
     "text": [
      "\n"
     ]
    },
    {
     "name": "stdout",
     "output_type": "stream",
     "text": [
      "\n",
      "      Epoch    GPU_mem   box_loss   cls_loss   dfl_loss  Instances       Size\n"
     ]
    },
    {
     "name": "stderr",
     "output_type": "stream",
     "text": [
      "      11/15      1.04G      1.171     0.5219      1.163        247        640: 100%|██████████| 634/634 [01:13<00:00,  8.67it/s]\n",
      "                 Class     Images  Instances      Box(P          R      mAP50  mAP50-95): 100%|██████████| 37/37 [00:03<00:00,  9.88it/s]\n"
     ]
    },
    {
     "name": "stdout",
     "output_type": "stream",
     "text": [
      "                   all        219      19666      0.932      0.965      0.983      0.666\n",
      "\n",
      "      Epoch    GPU_mem   box_loss   cls_loss   dfl_loss  Instances       Size\n"
     ]
    },
    {
     "name": "stderr",
     "output_type": "stream",
     "text": [
      "      12/15      1.14G      1.158     0.5106      1.142        112        640: 100%|██████████| 634/634 [01:13<00:00,  8.63it/s]\n",
      "                 Class     Images  Instances      Box(P          R      mAP50  mAP50-95): 100%|██████████| 37/37 [00:03<00:00, 11.31it/s]"
     ]
    },
    {
     "name": "stdout",
     "output_type": "stream",
     "text": [
      "                   all        219      19666      0.934      0.962      0.984      0.649\n"
     ]
    },
    {
     "name": "stderr",
     "output_type": "stream",
     "text": [
      "\n"
     ]
    },
    {
     "name": "stdout",
     "output_type": "stream",
     "text": [
      "\n",
      "      Epoch    GPU_mem   box_loss   cls_loss   dfl_loss  Instances       Size\n"
     ]
    },
    {
     "name": "stderr",
     "output_type": "stream",
     "text": [
      "      13/15      1.09G      1.141     0.5019       1.14        235        640: 100%|██████████| 634/634 [01:10<00:00,  9.03it/s]\n",
      "                 Class     Images  Instances      Box(P          R      mAP50  mAP50-95): 100%|██████████| 37/37 [00:03<00:00, 11.67it/s]"
     ]
    },
    {
     "name": "stdout",
     "output_type": "stream",
     "text": [
      "                   all        219      19666      0.931      0.963      0.983      0.661\n"
     ]
    },
    {
     "name": "stderr",
     "output_type": "stream",
     "text": [
      "\n"
     ]
    },
    {
     "name": "stdout",
     "output_type": "stream",
     "text": [
      "\n",
      "      Epoch    GPU_mem   box_loss   cls_loss   dfl_loss  Instances       Size\n"
     ]
    },
    {
     "name": "stderr",
     "output_type": "stream",
     "text": [
      "      14/15     0.952G      1.129     0.4955      1.133        263        640: 100%|██████████| 634/634 [01:10<00:00,  8.96it/s]\n",
      "                 Class     Images  Instances      Box(P          R      mAP50  mAP50-95): 100%|██████████| 37/37 [00:03<00:00, 11.51it/s]"
     ]
    },
    {
     "name": "stdout",
     "output_type": "stream",
     "text": [
      "                   all        219      19666      0.932      0.962      0.984      0.618\n"
     ]
    },
    {
     "name": "stderr",
     "output_type": "stream",
     "text": [
      "\n"
     ]
    },
    {
     "name": "stdout",
     "output_type": "stream",
     "text": [
      "\n",
      "      Epoch    GPU_mem   box_loss   cls_loss   dfl_loss  Instances       Size\n"
     ]
    },
    {
     "name": "stderr",
     "output_type": "stream",
     "text": [
      "      15/15      1.12G      1.109     0.4846      1.127        206        640: 100%|██████████| 634/634 [01:11<00:00,  8.88it/s]\n",
      "                 Class     Images  Instances      Box(P          R      mAP50  mAP50-95): 100%|██████████| 37/37 [00:03<00:00, 10.69it/s]\n"
     ]
    },
    {
     "name": "stdout",
     "output_type": "stream",
     "text": [
      "                   all        219      19666      0.935       0.96      0.984      0.658\n",
      "\n",
      "15 epochs completed in 0.332 hours.\n",
      "Optimizer stripped from /media/dartoyo/SSD2P2/programming/python/palm-tree-detection/runs/detect/train18/weights/last.pt, 6.2MB\n",
      "Optimizer stripped from /media/dartoyo/SSD2P2/programming/python/palm-tree-detection/runs/detect/train18/weights/best.pt, 6.2MB\n",
      "\n",
      "Validating /media/dartoyo/SSD2P2/programming/python/palm-tree-detection/runs/detect/train18/weights/best.pt...\n",
      "Ultralytics 8.3.59 🚀 Python-3.11.11 torch-2.5.1 CUDA:0 (NVIDIA GeForce GTX 1650, 3904MiB)\n",
      "Model summary (fused): 168 layers, 3,005,843 parameters, 0 gradients\n"
     ]
    },
    {
     "name": "stderr",
     "output_type": "stream",
     "text": [
      "                 Class     Images  Instances      Box(P          R      mAP50  mAP50-95): 100%|██████████| 37/37 [00:06<00:00,  6.13it/s]\n"
     ]
    },
    {
     "name": "stdout",
     "output_type": "stream",
     "text": [
      "                   all        219      19666      0.932      0.967      0.984      0.705\n",
      "Speed: 0.4ms preprocess, 6.9ms inference, 0.0ms loss, 1.4ms postprocess per image\n",
      "Results saved to \u001b[1m/media/dartoyo/SSD2P2/programming/python/palm-tree-detection/runs/detect/train18\u001b[0m\n"
     ]
    },
    {
     "data": {
      "text/plain": [
       "ultralytics.utils.metrics.DetMetrics object with attributes:\n",
       "\n",
       "ap_class_index: array([0])\n",
       "box: ultralytics.utils.metrics.Metric object\n",
       "confusion_matrix: <ultralytics.utils.metrics.ConfusionMatrix object at 0x7efeeb062dd0>\n",
       "curves: ['Precision-Recall(B)', 'F1-Confidence(B)', 'Precision-Confidence(B)', 'Recall-Confidence(B)']\n",
       "curves_results: [[array([          0,    0.001001,    0.002002,    0.003003,    0.004004,    0.005005,    0.006006,    0.007007,    0.008008,    0.009009,     0.01001,    0.011011,    0.012012,    0.013013,    0.014014,    0.015015,    0.016016,    0.017017,    0.018018,    0.019019,     0.02002,    0.021021,    0.022022,    0.023023,\n",
       "          0.024024,    0.025025,    0.026026,    0.027027,    0.028028,    0.029029,     0.03003,    0.031031,    0.032032,    0.033033,    0.034034,    0.035035,    0.036036,    0.037037,    0.038038,    0.039039,     0.04004,    0.041041,    0.042042,    0.043043,    0.044044,    0.045045,    0.046046,    0.047047,\n",
       "          0.048048,    0.049049,     0.05005,    0.051051,    0.052052,    0.053053,    0.054054,    0.055055,    0.056056,    0.057057,    0.058058,    0.059059,     0.06006,    0.061061,    0.062062,    0.063063,    0.064064,    0.065065,    0.066066,    0.067067,    0.068068,    0.069069,     0.07007,    0.071071,\n",
       "          0.072072,    0.073073,    0.074074,    0.075075,    0.076076,    0.077077,    0.078078,    0.079079,     0.08008,    0.081081,    0.082082,    0.083083,    0.084084,    0.085085,    0.086086,    0.087087,    0.088088,    0.089089,     0.09009,    0.091091,    0.092092,    0.093093,    0.094094,    0.095095,\n",
       "          0.096096,    0.097097,    0.098098,    0.099099,      0.1001,      0.1011,      0.1021,      0.1031,      0.1041,     0.10511,     0.10611,     0.10711,     0.10811,     0.10911,     0.11011,     0.11111,     0.11211,     0.11311,     0.11411,     0.11512,     0.11612,     0.11712,     0.11812,     0.11912,\n",
       "           0.12012,     0.12112,     0.12212,     0.12312,     0.12412,     0.12513,     0.12613,     0.12713,     0.12813,     0.12913,     0.13013,     0.13113,     0.13213,     0.13313,     0.13413,     0.13514,     0.13614,     0.13714,     0.13814,     0.13914,     0.14014,     0.14114,     0.14214,     0.14314,\n",
       "           0.14414,     0.14515,     0.14615,     0.14715,     0.14815,     0.14915,     0.15015,     0.15115,     0.15215,     0.15315,     0.15415,     0.15516,     0.15616,     0.15716,     0.15816,     0.15916,     0.16016,     0.16116,     0.16216,     0.16316,     0.16416,     0.16517,     0.16617,     0.16717,\n",
       "           0.16817,     0.16917,     0.17017,     0.17117,     0.17217,     0.17317,     0.17417,     0.17518,     0.17618,     0.17718,     0.17818,     0.17918,     0.18018,     0.18118,     0.18218,     0.18318,     0.18418,     0.18519,     0.18619,     0.18719,     0.18819,     0.18919,     0.19019,     0.19119,\n",
       "           0.19219,     0.19319,     0.19419,      0.1952,      0.1962,      0.1972,      0.1982,      0.1992,      0.2002,      0.2012,      0.2022,      0.2032,      0.2042,     0.20521,     0.20621,     0.20721,     0.20821,     0.20921,     0.21021,     0.21121,     0.21221,     0.21321,     0.21421,     0.21522,\n",
       "           0.21622,     0.21722,     0.21822,     0.21922,     0.22022,     0.22122,     0.22222,     0.22322,     0.22422,     0.22523,     0.22623,     0.22723,     0.22823,     0.22923,     0.23023,     0.23123,     0.23223,     0.23323,     0.23423,     0.23524,     0.23624,     0.23724,     0.23824,     0.23924,\n",
       "           0.24024,     0.24124,     0.24224,     0.24324,     0.24424,     0.24525,     0.24625,     0.24725,     0.24825,     0.24925,     0.25025,     0.25125,     0.25225,     0.25325,     0.25425,     0.25526,     0.25626,     0.25726,     0.25826,     0.25926,     0.26026,     0.26126,     0.26226,     0.26326,\n",
       "           0.26426,     0.26527,     0.26627,     0.26727,     0.26827,     0.26927,     0.27027,     0.27127,     0.27227,     0.27327,     0.27427,     0.27528,     0.27628,     0.27728,     0.27828,     0.27928,     0.28028,     0.28128,     0.28228,     0.28328,     0.28428,     0.28529,     0.28629,     0.28729,\n",
       "           0.28829,     0.28929,     0.29029,     0.29129,     0.29229,     0.29329,     0.29429,      0.2953,      0.2963,      0.2973,      0.2983,      0.2993,      0.3003,      0.3013,      0.3023,      0.3033,      0.3043,     0.30531,     0.30631,     0.30731,     0.30831,     0.30931,     0.31031,     0.31131,\n",
       "           0.31231,     0.31331,     0.31431,     0.31532,     0.31632,     0.31732,     0.31832,     0.31932,     0.32032,     0.32132,     0.32232,     0.32332,     0.32432,     0.32533,     0.32633,     0.32733,     0.32833,     0.32933,     0.33033,     0.33133,     0.33233,     0.33333,     0.33433,     0.33534,\n",
       "           0.33634,     0.33734,     0.33834,     0.33934,     0.34034,     0.34134,     0.34234,     0.34334,     0.34434,     0.34535,     0.34635,     0.34735,     0.34835,     0.34935,     0.35035,     0.35135,     0.35235,     0.35335,     0.35435,     0.35536,     0.35636,     0.35736,     0.35836,     0.35936,\n",
       "           0.36036,     0.36136,     0.36236,     0.36336,     0.36436,     0.36537,     0.36637,     0.36737,     0.36837,     0.36937,     0.37037,     0.37137,     0.37237,     0.37337,     0.37437,     0.37538,     0.37638,     0.37738,     0.37838,     0.37938,     0.38038,     0.38138,     0.38238,     0.38338,\n",
       "           0.38438,     0.38539,     0.38639,     0.38739,     0.38839,     0.38939,     0.39039,     0.39139,     0.39239,     0.39339,     0.39439,      0.3954,      0.3964,      0.3974,      0.3984,      0.3994,      0.4004,      0.4014,      0.4024,      0.4034,      0.4044,     0.40541,     0.40641,     0.40741,\n",
       "           0.40841,     0.40941,     0.41041,     0.41141,     0.41241,     0.41341,     0.41441,     0.41542,     0.41642,     0.41742,     0.41842,     0.41942,     0.42042,     0.42142,     0.42242,     0.42342,     0.42442,     0.42543,     0.42643,     0.42743,     0.42843,     0.42943,     0.43043,     0.43143,\n",
       "           0.43243,     0.43343,     0.43443,     0.43544,     0.43644,     0.43744,     0.43844,     0.43944,     0.44044,     0.44144,     0.44244,     0.44344,     0.44444,     0.44545,     0.44645,     0.44745,     0.44845,     0.44945,     0.45045,     0.45145,     0.45245,     0.45345,     0.45445,     0.45546,\n",
       "           0.45646,     0.45746,     0.45846,     0.45946,     0.46046,     0.46146,     0.46246,     0.46346,     0.46446,     0.46547,     0.46647,     0.46747,     0.46847,     0.46947,     0.47047,     0.47147,     0.47247,     0.47347,     0.47447,     0.47548,     0.47648,     0.47748,     0.47848,     0.47948,\n",
       "           0.48048,     0.48148,     0.48248,     0.48348,     0.48448,     0.48549,     0.48649,     0.48749,     0.48849,     0.48949,     0.49049,     0.49149,     0.49249,     0.49349,     0.49449,      0.4955,      0.4965,      0.4975,      0.4985,      0.4995,      0.5005,      0.5015,      0.5025,      0.5035,\n",
       "            0.5045,     0.50551,     0.50651,     0.50751,     0.50851,     0.50951,     0.51051,     0.51151,     0.51251,     0.51351,     0.51451,     0.51552,     0.51652,     0.51752,     0.51852,     0.51952,     0.52052,     0.52152,     0.52252,     0.52352,     0.52452,     0.52553,     0.52653,     0.52753,\n",
       "           0.52853,     0.52953,     0.53053,     0.53153,     0.53253,     0.53353,     0.53453,     0.53554,     0.53654,     0.53754,     0.53854,     0.53954,     0.54054,     0.54154,     0.54254,     0.54354,     0.54454,     0.54555,     0.54655,     0.54755,     0.54855,     0.54955,     0.55055,     0.55155,\n",
       "           0.55255,     0.55355,     0.55455,     0.55556,     0.55656,     0.55756,     0.55856,     0.55956,     0.56056,     0.56156,     0.56256,     0.56356,     0.56456,     0.56557,     0.56657,     0.56757,     0.56857,     0.56957,     0.57057,     0.57157,     0.57257,     0.57357,     0.57457,     0.57558,\n",
       "           0.57658,     0.57758,     0.57858,     0.57958,     0.58058,     0.58158,     0.58258,     0.58358,     0.58458,     0.58559,     0.58659,     0.58759,     0.58859,     0.58959,     0.59059,     0.59159,     0.59259,     0.59359,     0.59459,      0.5956,      0.5966,      0.5976,      0.5986,      0.5996,\n",
       "            0.6006,      0.6016,      0.6026,      0.6036,      0.6046,     0.60561,     0.60661,     0.60761,     0.60861,     0.60961,     0.61061,     0.61161,     0.61261,     0.61361,     0.61461,     0.61562,     0.61662,     0.61762,     0.61862,     0.61962,     0.62062,     0.62162,     0.62262,     0.62362,\n",
       "           0.62462,     0.62563,     0.62663,     0.62763,     0.62863,     0.62963,     0.63063,     0.63163,     0.63263,     0.63363,     0.63463,     0.63564,     0.63664,     0.63764,     0.63864,     0.63964,     0.64064,     0.64164,     0.64264,     0.64364,     0.64464,     0.64565,     0.64665,     0.64765,\n",
       "           0.64865,     0.64965,     0.65065,     0.65165,     0.65265,     0.65365,     0.65465,     0.65566,     0.65666,     0.65766,     0.65866,     0.65966,     0.66066,     0.66166,     0.66266,     0.66366,     0.66466,     0.66567,     0.66667,     0.66767,     0.66867,     0.66967,     0.67067,     0.67167,\n",
       "           0.67267,     0.67367,     0.67467,     0.67568,     0.67668,     0.67768,     0.67868,     0.67968,     0.68068,     0.68168,     0.68268,     0.68368,     0.68468,     0.68569,     0.68669,     0.68769,     0.68869,     0.68969,     0.69069,     0.69169,     0.69269,     0.69369,     0.69469,      0.6957,\n",
       "            0.6967,      0.6977,      0.6987,      0.6997,      0.7007,      0.7017,      0.7027,      0.7037,      0.7047,     0.70571,     0.70671,     0.70771,     0.70871,     0.70971,     0.71071,     0.71171,     0.71271,     0.71371,     0.71471,     0.71572,     0.71672,     0.71772,     0.71872,     0.71972,\n",
       "           0.72072,     0.72172,     0.72272,     0.72372,     0.72472,     0.72573,     0.72673,     0.72773,     0.72873,     0.72973,     0.73073,     0.73173,     0.73273,     0.73373,     0.73473,     0.73574,     0.73674,     0.73774,     0.73874,     0.73974,     0.74074,     0.74174,     0.74274,     0.74374,\n",
       "           0.74474,     0.74575,     0.74675,     0.74775,     0.74875,     0.74975,     0.75075,     0.75175,     0.75275,     0.75375,     0.75475,     0.75576,     0.75676,     0.75776,     0.75876,     0.75976,     0.76076,     0.76176,     0.76276,     0.76376,     0.76476,     0.76577,     0.76677,     0.76777,\n",
       "           0.76877,     0.76977,     0.77077,     0.77177,     0.77277,     0.77377,     0.77477,     0.77578,     0.77678,     0.77778,     0.77878,     0.77978,     0.78078,     0.78178,     0.78278,     0.78378,     0.78478,     0.78579,     0.78679,     0.78779,     0.78879,     0.78979,     0.79079,     0.79179,\n",
       "           0.79279,     0.79379,     0.79479,      0.7958,      0.7968,      0.7978,      0.7988,      0.7998,      0.8008,      0.8018,      0.8028,      0.8038,      0.8048,     0.80581,     0.80681,     0.80781,     0.80881,     0.80981,     0.81081,     0.81181,     0.81281,     0.81381,     0.81481,     0.81582,\n",
       "           0.81682,     0.81782,     0.81882,     0.81982,     0.82082,     0.82182,     0.82282,     0.82382,     0.82482,     0.82583,     0.82683,     0.82783,     0.82883,     0.82983,     0.83083,     0.83183,     0.83283,     0.83383,     0.83483,     0.83584,     0.83684,     0.83784,     0.83884,     0.83984,\n",
       "           0.84084,     0.84184,     0.84284,     0.84384,     0.84484,     0.84585,     0.84685,     0.84785,     0.84885,     0.84985,     0.85085,     0.85185,     0.85285,     0.85385,     0.85485,     0.85586,     0.85686,     0.85786,     0.85886,     0.85986,     0.86086,     0.86186,     0.86286,     0.86386,\n",
       "           0.86486,     0.86587,     0.86687,     0.86787,     0.86887,     0.86987,     0.87087,     0.87187,     0.87287,     0.87387,     0.87487,     0.87588,     0.87688,     0.87788,     0.87888,     0.87988,     0.88088,     0.88188,     0.88288,     0.88388,     0.88488,     0.88589,     0.88689,     0.88789,\n",
       "           0.88889,     0.88989,     0.89089,     0.89189,     0.89289,     0.89389,     0.89489,      0.8959,      0.8969,      0.8979,      0.8989,      0.8999,      0.9009,      0.9019,      0.9029,      0.9039,      0.9049,     0.90591,     0.90691,     0.90791,     0.90891,     0.90991,     0.91091,     0.91191,\n",
       "           0.91291,     0.91391,     0.91491,     0.91592,     0.91692,     0.91792,     0.91892,     0.91992,     0.92092,     0.92192,     0.92292,     0.92392,     0.92492,     0.92593,     0.92693,     0.92793,     0.92893,     0.92993,     0.93093,     0.93193,     0.93293,     0.93393,     0.93493,     0.93594,\n",
       "           0.93694,     0.93794,     0.93894,     0.93994,     0.94094,     0.94194,     0.94294,     0.94394,     0.94494,     0.94595,     0.94695,     0.94795,     0.94895,     0.94995,     0.95095,     0.95195,     0.95295,     0.95395,     0.95495,     0.95596,     0.95696,     0.95796,     0.95896,     0.95996,\n",
       "           0.96096,     0.96196,     0.96296,     0.96396,     0.96496,     0.96597,     0.96697,     0.96797,     0.96897,     0.96997,     0.97097,     0.97197,     0.97297,     0.97397,     0.97497,     0.97598,     0.97698,     0.97798,     0.97898,     0.97998,     0.98098,     0.98198,     0.98298,     0.98398,\n",
       "           0.98498,     0.98599,     0.98699,     0.98799,     0.98899,     0.98999,     0.99099,     0.99199,     0.99299,     0.99399,     0.99499,       0.996,       0.997,       0.998,       0.999,           1]), array([[          1,           1,           1,           1,           1,           1,           1,           1,           1,           1,           1,           1,           1,           1,           1,           1,           1,           1,           1,           1,           1,           1,           1,\n",
       "                  1,           1,           1,           1,           1,           1,           1,           1,           1,           1,           1,           1,           1,           1,           1,           1,           1,           1,           1,           1,           1,           1,           1,\n",
       "                  1,           1,           1,           1,           1,           1,           1,           1,           1,           1,           1,           1,           1,           1,           1,           1,           1,           1,           1,           1,           1,           1,           1,\n",
       "                  1,           1,           1,           1,           1,           1,           1,           1,           1,           1,           1,           1,           1,           1,           1,           1,           1,           1,           1,           1,           1,           1,           1,\n",
       "                  1,           1,           1,           1,           1,           1,           1,           1,           1,           1,           1,           1,           1,           1,           1,           1,           1,           1,           1,           1,           1,           1,           1,\n",
       "                  1,           1,           1,           1,           1,           1,           1,           1,           1,           1,           1,           1,           1,           1,           1,           1,           1,           1,           1,           1,           1,           1,           1,\n",
       "                  1,           1,           1,           1,           1,           1,           1,           1,           1,           1,           1,           1,           1,           1,           1,           1,           1,           1,     0.99974,     0.99974,     0.99974,     0.99974,     0.99974,\n",
       "            0.99974,     0.99974,     0.99974,     0.99974,     0.99974,     0.99974,     0.99974,     0.99974,     0.99974,     0.99974,     0.99974,     0.99974,     0.99974,     0.99974,     0.99974,     0.99974,     0.99974,     0.99974,     0.99974,     0.99974,     0.99974,     0.99974,     0.99974,\n",
       "            0.99974,     0.99974,     0.99974,     0.99974,     0.99974,     0.99974,     0.99974,     0.99974,     0.99974,     0.99974,     0.99974,     0.99974,     0.99974,     0.99974,     0.99951,     0.99951,     0.99951,     0.99951,     0.99951,     0.99951,     0.99951,     0.99951,     0.99927,\n",
       "            0.99927,     0.99927,     0.99927,     0.99917,     0.99917,     0.99917,     0.99917,     0.99917,     0.99917,     0.99917,     0.99917,     0.99917,     0.99917,     0.99917,     0.99917,     0.99917,     0.99917,     0.99917,     0.99917,     0.99917,     0.99917,     0.99917,     0.99917,\n",
       "            0.99917,     0.99917,     0.99917,     0.99917,     0.99917,     0.99917,     0.99917,     0.99917,     0.99917,     0.99917,     0.99917,     0.99917,     0.99917,     0.99917,     0.99917,     0.99901,     0.99901,     0.99901,     0.99901,     0.99901,     0.99901,     0.99901,     0.99901,\n",
       "            0.99901,     0.99901,     0.99901,     0.99883,     0.99883,     0.99883,     0.99883,     0.99883,      0.9987,      0.9987,      0.9987,      0.9987,      0.9987,      0.9987,      0.9987,      0.9987,      0.9987,      0.9987,      0.9987,      0.9987,     0.99856,     0.99856,     0.99856,\n",
       "            0.99856,     0.99856,     0.99856,     0.99856,     0.99856,     0.99856,     0.99839,     0.99839,     0.99823,     0.99823,     0.99823,       0.998,       0.998,       0.998,       0.998,       0.998,       0.998,       0.998,       0.998,       0.998,       0.998,       0.998,       0.998,\n",
       "              0.998,       0.998,       0.998,       0.998,       0.998,      0.9979,      0.9979,      0.9979,      0.9979,      0.9979,      0.9979,      0.9979,      0.9979,      0.9979,      0.9979,      0.9979,     0.99784,     0.99784,     0.99784,     0.99784,     0.99784,     0.99784,     0.99784,\n",
       "            0.99784,     0.99784,     0.99784,     0.99784,     0.99784,     0.99784,     0.99784,     0.99784,     0.99773,     0.99773,     0.99773,     0.99773,     0.99773,     0.99758,     0.99747,     0.99747,     0.99747,     0.99747,     0.99718,     0.99708,     0.99708,     0.99708,     0.99708,\n",
       "            0.99708,     0.99708,     0.99706,     0.99706,     0.99706,     0.99706,     0.99706,     0.99706,     0.99706,     0.99706,     0.99706,     0.99706,     0.99706,     0.99706,     0.99706,     0.99706,     0.99706,     0.99706,     0.99706,     0.99706,     0.99706,     0.99706,     0.99706,\n",
       "            0.99706,     0.99706,     0.99706,     0.99706,     0.99706,     0.99706,     0.99706,     0.99706,     0.99706,     0.99706,     0.99706,     0.99706,     0.99706,     0.99706,     0.99706,     0.99706,     0.99706,     0.99706,     0.99706,     0.99706,     0.99706,     0.99706,     0.99706,\n",
       "            0.99706,     0.99706,     0.99706,     0.99706,     0.99706,     0.99693,     0.99685,     0.99685,     0.99685,     0.99685,     0.99685,     0.99677,     0.99677,     0.99677,     0.99677,     0.99677,     0.99677,     0.99677,     0.99677,     0.99677,     0.99677,     0.99677,     0.99677,\n",
       "            0.99677,     0.99677,     0.99677,     0.99677,     0.99677,     0.99677,     0.99677,     0.99677,     0.99677,     0.99677,     0.99666,     0.99655,     0.99645,     0.99645,     0.99645,     0.99637,     0.99637,     0.99637,     0.99637,     0.99629,     0.99629,     0.99629,     0.99621,\n",
       "            0.99621,     0.99621,     0.99621,     0.99621,     0.99611,     0.99604,     0.99604,     0.99604,     0.99604,     0.99604,     0.99593,      0.9959,      0.9959,      0.9959,      0.9959,      0.9959,      0.9959,      0.9959,      0.9959,      0.9959,      0.9957,      0.9957,     0.99563,\n",
       "            0.99563,     0.99563,     0.99563,     0.99563,     0.99555,     0.99555,     0.99555,      0.9955,      0.9955,      0.9955,      0.9955,      0.9955,      0.9955,      0.9955,      0.9955,      0.9955,      0.9955,      0.9955,      0.9955,      0.9955,      0.9955,      0.9955,      0.9955,\n",
       "            0.99545,     0.99545,     0.99545,     0.99545,     0.99545,     0.99545,     0.99539,     0.99539,     0.99539,     0.99539,     0.99539,     0.99532,     0.99532,     0.99532,     0.99525,     0.99525,     0.99525,     0.99525,     0.99519,     0.99519,     0.99519,     0.99519,     0.99512,\n",
       "            0.99512,     0.99512,     0.99496,     0.99496,     0.99496,     0.99496,      0.9949,      0.9949,      0.9949,      0.9949,     0.99482,     0.99482,     0.99456,     0.99456,     0.99456,     0.99451,     0.99451,     0.99451,     0.99451,     0.99445,     0.99445,     0.99445,     0.99438,\n",
       "            0.99438,     0.99438,      0.9943,     0.99423,     0.99423,     0.99423,     0.99423,     0.99423,     0.99423,     0.99423,     0.99423,     0.99423,     0.99423,     0.99423,      0.9942,      0.9942,      0.9942,      0.9942,      0.9942,      0.9942,     0.99408,     0.99408,     0.99408,\n",
       "            0.99408,     0.99408,     0.99408,     0.99402,     0.99402,     0.99402,     0.99397,     0.99397,     0.99397,     0.99397,      0.9939,     0.99377,     0.99377,     0.99377,     0.99377,     0.99377,     0.99369,     0.99362,     0.99354,     0.99346,     0.99338,     0.99324,     0.99324,\n",
       "            0.99316,      0.9931,      0.9931,     0.99303,     0.99303,     0.99296,     0.99289,     0.99282,     0.99282,     0.99275,     0.99268,     0.99261,      0.9926,      0.9926,      0.9926,      0.9926,      0.9926,      0.9926,      0.9926,     0.99248,     0.99248,     0.99248,     0.99243,\n",
       "            0.99243,     0.99243,     0.99241,     0.99241,     0.99241,     0.99241,     0.99241,     0.99226,     0.99221,     0.99221,     0.99221,     0.99208,     0.99208,     0.99208,     0.99203,     0.99197,     0.99197,     0.99185,     0.99185,     0.99185,     0.99185,     0.99185,     0.99185,\n",
       "            0.99185,     0.99185,     0.99185,     0.99185,     0.99185,     0.99185,     0.99185,     0.99185,     0.99185,     0.99185,     0.99185,     0.99185,     0.99185,     0.99185,     0.99185,     0.99185,     0.99185,     0.99185,     0.99185,     0.99185,     0.99185,     0.99185,     0.99185,\n",
       "            0.99185,     0.99185,     0.99185,     0.99185,     0.99185,     0.99185,     0.99185,     0.99185,     0.99185,     0.99185,     0.99185,     0.99185,     0.99185,     0.99185,     0.99185,     0.99185,     0.99185,     0.99185,     0.99179,     0.99164,     0.99159,     0.99159,     0.99146,\n",
       "            0.99144,     0.99144,     0.99144,     0.99144,     0.99139,     0.99139,     0.99133,     0.99129,     0.99129,     0.99129,     0.99127,     0.99127,     0.99127,     0.99127,     0.99121,      0.9912,      0.9912,      0.9912,      0.9912,      0.9912,     0.99117,     0.99117,     0.99117,\n",
       "            0.99099,     0.99099,     0.99099,     0.99096,     0.99096,     0.99096,     0.99083,     0.99083,     0.99078,     0.99076,     0.99076,     0.99076,     0.99076,      0.9907,     0.99064,     0.99059,     0.99058,     0.99058,     0.99058,     0.99058,     0.99058,     0.99042,     0.99042,\n",
       "            0.99042,     0.99042,     0.99037,     0.99031,     0.99025,     0.99013,     0.99007,     0.99003,     0.99003,     0.98998,     0.98992,     0.98988,     0.98988,     0.98983,     0.98973,     0.98973,     0.98973,     0.98961,     0.98956,      0.9895,     0.98945,     0.98933,     0.98922,\n",
       "            0.98922,     0.98914,     0.98914,     0.98914,     0.98914,     0.98901,     0.98901,     0.98901,     0.98901,     0.98901,     0.98901,     0.98901,     0.98901,     0.98901,     0.98896,      0.9889,     0.98871,     0.98841,     0.98841,     0.98825,     0.98812,     0.98794,     0.98789,\n",
       "            0.98779,     0.98759,     0.98757,     0.98757,     0.98739,     0.98733,     0.98728,     0.98724,     0.98706,     0.98702,     0.98685,     0.98685,     0.98668,     0.98651,     0.98646,     0.98642,     0.98636,     0.98613,     0.98601,     0.98578,     0.98568,     0.98563,     0.98548,\n",
       "            0.98548,     0.98531,     0.98519,     0.98509,     0.98492,     0.98482,      0.9847,     0.98466,     0.98463,     0.98457,     0.98435,      0.9842,      0.9842,     0.98415,     0.98405,     0.98396,     0.98389,     0.98389,     0.98389,     0.98385,     0.98375,     0.98364,     0.98342,\n",
       "            0.98337,     0.98322,     0.98307,     0.98307,     0.98304,     0.98293,     0.98289,     0.98279,     0.98257,     0.98248,     0.98237,     0.98215,     0.98199,     0.98176,     0.98176,     0.98176,      0.9816,     0.98144,     0.98123,      0.9812,     0.98112,     0.98112,      0.9809,\n",
       "            0.98071,     0.98071,     0.98062,     0.98029,     0.98002,     0.97999,      0.9799,     0.97986,     0.97965,     0.97955,     0.97934,      0.9792,     0.97904,     0.97902,     0.97889,     0.97889,      0.9788,      0.9787,     0.97862,     0.97853,     0.97838,     0.97829,     0.97809,\n",
       "              0.978,     0.97785,     0.97771,     0.97762,     0.97759,     0.97744,     0.97736,     0.97699,     0.97662,     0.97642,     0.97638,     0.97608,     0.97582,     0.97563,     0.97543,     0.97517,     0.97483,      0.9748,     0.97476,     0.97446,     0.97421,     0.97399,     0.97399,\n",
       "            0.97369,     0.97366,      0.9733,     0.97301,     0.97276,     0.97266,     0.97266,     0.97247,     0.97247,     0.97237,     0.97229,      0.9721,     0.97187,     0.97152,     0.97133,     0.97088,     0.97071,     0.97057,     0.97038,     0.97015,     0.96997,     0.96979,     0.96939,\n",
       "            0.96873,      0.9685,     0.96837,       0.968,     0.96786,     0.96732,     0.96714,     0.96686,     0.96638,     0.96599,     0.96592,      0.9657,     0.96558,     0.96535,     0.96468,     0.96449,     0.96422,     0.96395,     0.96369,     0.96346,      0.9632,     0.96292,     0.96255,\n",
       "            0.96233,     0.96206,     0.96185,     0.96148,     0.96086,     0.96075,     0.96034,     0.95977,     0.95921,      0.9591,     0.95838,     0.95768,     0.95748,     0.95726,     0.95632,     0.95542,     0.95482,     0.95368,     0.95318,      0.9527,     0.95239,     0.95132,     0.95073,\n",
       "            0.94972,     0.94889,     0.94788,      0.9473,     0.94654,     0.94583,     0.94478,     0.94417,     0.94341,     0.94233,     0.94177,     0.94108,     0.94033,     0.93973,     0.93915,     0.93756,      0.9366,     0.93574,     0.93515,     0.93457,     0.93412,     0.93369,     0.93319,\n",
       "            0.93185,     0.93086,     0.92965,     0.92836,     0.92717,     0.92602,     0.92511,     0.92358,     0.92134,     0.91925,      0.9175,     0.91626,     0.91381,     0.91126,     0.90996,     0.90777,     0.90553,     0.90303,     0.90035,     0.89603,     0.89275,     0.88839,     0.88453,\n",
       "            0.88199,     0.87765,     0.87242,      0.8624,      0.8518,     0.83492,     0.81474,     0.79239,     0.74829,     0.32614,           0]]), 'Recall', 'Precision'], [array([          0,    0.001001,    0.002002,    0.003003,    0.004004,    0.005005,    0.006006,    0.007007,    0.008008,    0.009009,     0.01001,    0.011011,    0.012012,    0.013013,    0.014014,    0.015015,    0.016016,    0.017017,    0.018018,    0.019019,     0.02002,    0.021021,    0.022022,    0.023023,\n",
       "          0.024024,    0.025025,    0.026026,    0.027027,    0.028028,    0.029029,     0.03003,    0.031031,    0.032032,    0.033033,    0.034034,    0.035035,    0.036036,    0.037037,    0.038038,    0.039039,     0.04004,    0.041041,    0.042042,    0.043043,    0.044044,    0.045045,    0.046046,    0.047047,\n",
       "          0.048048,    0.049049,     0.05005,    0.051051,    0.052052,    0.053053,    0.054054,    0.055055,    0.056056,    0.057057,    0.058058,    0.059059,     0.06006,    0.061061,    0.062062,    0.063063,    0.064064,    0.065065,    0.066066,    0.067067,    0.068068,    0.069069,     0.07007,    0.071071,\n",
       "          0.072072,    0.073073,    0.074074,    0.075075,    0.076076,    0.077077,    0.078078,    0.079079,     0.08008,    0.081081,    0.082082,    0.083083,    0.084084,    0.085085,    0.086086,    0.087087,    0.088088,    0.089089,     0.09009,    0.091091,    0.092092,    0.093093,    0.094094,    0.095095,\n",
       "          0.096096,    0.097097,    0.098098,    0.099099,      0.1001,      0.1011,      0.1021,      0.1031,      0.1041,     0.10511,     0.10611,     0.10711,     0.10811,     0.10911,     0.11011,     0.11111,     0.11211,     0.11311,     0.11411,     0.11512,     0.11612,     0.11712,     0.11812,     0.11912,\n",
       "           0.12012,     0.12112,     0.12212,     0.12312,     0.12412,     0.12513,     0.12613,     0.12713,     0.12813,     0.12913,     0.13013,     0.13113,     0.13213,     0.13313,     0.13413,     0.13514,     0.13614,     0.13714,     0.13814,     0.13914,     0.14014,     0.14114,     0.14214,     0.14314,\n",
       "           0.14414,     0.14515,     0.14615,     0.14715,     0.14815,     0.14915,     0.15015,     0.15115,     0.15215,     0.15315,     0.15415,     0.15516,     0.15616,     0.15716,     0.15816,     0.15916,     0.16016,     0.16116,     0.16216,     0.16316,     0.16416,     0.16517,     0.16617,     0.16717,\n",
       "           0.16817,     0.16917,     0.17017,     0.17117,     0.17217,     0.17317,     0.17417,     0.17518,     0.17618,     0.17718,     0.17818,     0.17918,     0.18018,     0.18118,     0.18218,     0.18318,     0.18418,     0.18519,     0.18619,     0.18719,     0.18819,     0.18919,     0.19019,     0.19119,\n",
       "           0.19219,     0.19319,     0.19419,      0.1952,      0.1962,      0.1972,      0.1982,      0.1992,      0.2002,      0.2012,      0.2022,      0.2032,      0.2042,     0.20521,     0.20621,     0.20721,     0.20821,     0.20921,     0.21021,     0.21121,     0.21221,     0.21321,     0.21421,     0.21522,\n",
       "           0.21622,     0.21722,     0.21822,     0.21922,     0.22022,     0.22122,     0.22222,     0.22322,     0.22422,     0.22523,     0.22623,     0.22723,     0.22823,     0.22923,     0.23023,     0.23123,     0.23223,     0.23323,     0.23423,     0.23524,     0.23624,     0.23724,     0.23824,     0.23924,\n",
       "           0.24024,     0.24124,     0.24224,     0.24324,     0.24424,     0.24525,     0.24625,     0.24725,     0.24825,     0.24925,     0.25025,     0.25125,     0.25225,     0.25325,     0.25425,     0.25526,     0.25626,     0.25726,     0.25826,     0.25926,     0.26026,     0.26126,     0.26226,     0.26326,\n",
       "           0.26426,     0.26527,     0.26627,     0.26727,     0.26827,     0.26927,     0.27027,     0.27127,     0.27227,     0.27327,     0.27427,     0.27528,     0.27628,     0.27728,     0.27828,     0.27928,     0.28028,     0.28128,     0.28228,     0.28328,     0.28428,     0.28529,     0.28629,     0.28729,\n",
       "           0.28829,     0.28929,     0.29029,     0.29129,     0.29229,     0.29329,     0.29429,      0.2953,      0.2963,      0.2973,      0.2983,      0.2993,      0.3003,      0.3013,      0.3023,      0.3033,      0.3043,     0.30531,     0.30631,     0.30731,     0.30831,     0.30931,     0.31031,     0.31131,\n",
       "           0.31231,     0.31331,     0.31431,     0.31532,     0.31632,     0.31732,     0.31832,     0.31932,     0.32032,     0.32132,     0.32232,     0.32332,     0.32432,     0.32533,     0.32633,     0.32733,     0.32833,     0.32933,     0.33033,     0.33133,     0.33233,     0.33333,     0.33433,     0.33534,\n",
       "           0.33634,     0.33734,     0.33834,     0.33934,     0.34034,     0.34134,     0.34234,     0.34334,     0.34434,     0.34535,     0.34635,     0.34735,     0.34835,     0.34935,     0.35035,     0.35135,     0.35235,     0.35335,     0.35435,     0.35536,     0.35636,     0.35736,     0.35836,     0.35936,\n",
       "           0.36036,     0.36136,     0.36236,     0.36336,     0.36436,     0.36537,     0.36637,     0.36737,     0.36837,     0.36937,     0.37037,     0.37137,     0.37237,     0.37337,     0.37437,     0.37538,     0.37638,     0.37738,     0.37838,     0.37938,     0.38038,     0.38138,     0.38238,     0.38338,\n",
       "           0.38438,     0.38539,     0.38639,     0.38739,     0.38839,     0.38939,     0.39039,     0.39139,     0.39239,     0.39339,     0.39439,      0.3954,      0.3964,      0.3974,      0.3984,      0.3994,      0.4004,      0.4014,      0.4024,      0.4034,      0.4044,     0.40541,     0.40641,     0.40741,\n",
       "           0.40841,     0.40941,     0.41041,     0.41141,     0.41241,     0.41341,     0.41441,     0.41542,     0.41642,     0.41742,     0.41842,     0.41942,     0.42042,     0.42142,     0.42242,     0.42342,     0.42442,     0.42543,     0.42643,     0.42743,     0.42843,     0.42943,     0.43043,     0.43143,\n",
       "           0.43243,     0.43343,     0.43443,     0.43544,     0.43644,     0.43744,     0.43844,     0.43944,     0.44044,     0.44144,     0.44244,     0.44344,     0.44444,     0.44545,     0.44645,     0.44745,     0.44845,     0.44945,     0.45045,     0.45145,     0.45245,     0.45345,     0.45445,     0.45546,\n",
       "           0.45646,     0.45746,     0.45846,     0.45946,     0.46046,     0.46146,     0.46246,     0.46346,     0.46446,     0.46547,     0.46647,     0.46747,     0.46847,     0.46947,     0.47047,     0.47147,     0.47247,     0.47347,     0.47447,     0.47548,     0.47648,     0.47748,     0.47848,     0.47948,\n",
       "           0.48048,     0.48148,     0.48248,     0.48348,     0.48448,     0.48549,     0.48649,     0.48749,     0.48849,     0.48949,     0.49049,     0.49149,     0.49249,     0.49349,     0.49449,      0.4955,      0.4965,      0.4975,      0.4985,      0.4995,      0.5005,      0.5015,      0.5025,      0.5035,\n",
       "            0.5045,     0.50551,     0.50651,     0.50751,     0.50851,     0.50951,     0.51051,     0.51151,     0.51251,     0.51351,     0.51451,     0.51552,     0.51652,     0.51752,     0.51852,     0.51952,     0.52052,     0.52152,     0.52252,     0.52352,     0.52452,     0.52553,     0.52653,     0.52753,\n",
       "           0.52853,     0.52953,     0.53053,     0.53153,     0.53253,     0.53353,     0.53453,     0.53554,     0.53654,     0.53754,     0.53854,     0.53954,     0.54054,     0.54154,     0.54254,     0.54354,     0.54454,     0.54555,     0.54655,     0.54755,     0.54855,     0.54955,     0.55055,     0.55155,\n",
       "           0.55255,     0.55355,     0.55455,     0.55556,     0.55656,     0.55756,     0.55856,     0.55956,     0.56056,     0.56156,     0.56256,     0.56356,     0.56456,     0.56557,     0.56657,     0.56757,     0.56857,     0.56957,     0.57057,     0.57157,     0.57257,     0.57357,     0.57457,     0.57558,\n",
       "           0.57658,     0.57758,     0.57858,     0.57958,     0.58058,     0.58158,     0.58258,     0.58358,     0.58458,     0.58559,     0.58659,     0.58759,     0.58859,     0.58959,     0.59059,     0.59159,     0.59259,     0.59359,     0.59459,      0.5956,      0.5966,      0.5976,      0.5986,      0.5996,\n",
       "            0.6006,      0.6016,      0.6026,      0.6036,      0.6046,     0.60561,     0.60661,     0.60761,     0.60861,     0.60961,     0.61061,     0.61161,     0.61261,     0.61361,     0.61461,     0.61562,     0.61662,     0.61762,     0.61862,     0.61962,     0.62062,     0.62162,     0.62262,     0.62362,\n",
       "           0.62462,     0.62563,     0.62663,     0.62763,     0.62863,     0.62963,     0.63063,     0.63163,     0.63263,     0.63363,     0.63463,     0.63564,     0.63664,     0.63764,     0.63864,     0.63964,     0.64064,     0.64164,     0.64264,     0.64364,     0.64464,     0.64565,     0.64665,     0.64765,\n",
       "           0.64865,     0.64965,     0.65065,     0.65165,     0.65265,     0.65365,     0.65465,     0.65566,     0.65666,     0.65766,     0.65866,     0.65966,     0.66066,     0.66166,     0.66266,     0.66366,     0.66466,     0.66567,     0.66667,     0.66767,     0.66867,     0.66967,     0.67067,     0.67167,\n",
       "           0.67267,     0.67367,     0.67467,     0.67568,     0.67668,     0.67768,     0.67868,     0.67968,     0.68068,     0.68168,     0.68268,     0.68368,     0.68468,     0.68569,     0.68669,     0.68769,     0.68869,     0.68969,     0.69069,     0.69169,     0.69269,     0.69369,     0.69469,      0.6957,\n",
       "            0.6967,      0.6977,      0.6987,      0.6997,      0.7007,      0.7017,      0.7027,      0.7037,      0.7047,     0.70571,     0.70671,     0.70771,     0.70871,     0.70971,     0.71071,     0.71171,     0.71271,     0.71371,     0.71471,     0.71572,     0.71672,     0.71772,     0.71872,     0.71972,\n",
       "           0.72072,     0.72172,     0.72272,     0.72372,     0.72472,     0.72573,     0.72673,     0.72773,     0.72873,     0.72973,     0.73073,     0.73173,     0.73273,     0.73373,     0.73473,     0.73574,     0.73674,     0.73774,     0.73874,     0.73974,     0.74074,     0.74174,     0.74274,     0.74374,\n",
       "           0.74474,     0.74575,     0.74675,     0.74775,     0.74875,     0.74975,     0.75075,     0.75175,     0.75275,     0.75375,     0.75475,     0.75576,     0.75676,     0.75776,     0.75876,     0.75976,     0.76076,     0.76176,     0.76276,     0.76376,     0.76476,     0.76577,     0.76677,     0.76777,\n",
       "           0.76877,     0.76977,     0.77077,     0.77177,     0.77277,     0.77377,     0.77477,     0.77578,     0.77678,     0.77778,     0.77878,     0.77978,     0.78078,     0.78178,     0.78278,     0.78378,     0.78478,     0.78579,     0.78679,     0.78779,     0.78879,     0.78979,     0.79079,     0.79179,\n",
       "           0.79279,     0.79379,     0.79479,      0.7958,      0.7968,      0.7978,      0.7988,      0.7998,      0.8008,      0.8018,      0.8028,      0.8038,      0.8048,     0.80581,     0.80681,     0.80781,     0.80881,     0.80981,     0.81081,     0.81181,     0.81281,     0.81381,     0.81481,     0.81582,\n",
       "           0.81682,     0.81782,     0.81882,     0.81982,     0.82082,     0.82182,     0.82282,     0.82382,     0.82482,     0.82583,     0.82683,     0.82783,     0.82883,     0.82983,     0.83083,     0.83183,     0.83283,     0.83383,     0.83483,     0.83584,     0.83684,     0.83784,     0.83884,     0.83984,\n",
       "           0.84084,     0.84184,     0.84284,     0.84384,     0.84484,     0.84585,     0.84685,     0.84785,     0.84885,     0.84985,     0.85085,     0.85185,     0.85285,     0.85385,     0.85485,     0.85586,     0.85686,     0.85786,     0.85886,     0.85986,     0.86086,     0.86186,     0.86286,     0.86386,\n",
       "           0.86486,     0.86587,     0.86687,     0.86787,     0.86887,     0.86987,     0.87087,     0.87187,     0.87287,     0.87387,     0.87487,     0.87588,     0.87688,     0.87788,     0.87888,     0.87988,     0.88088,     0.88188,     0.88288,     0.88388,     0.88488,     0.88589,     0.88689,     0.88789,\n",
       "           0.88889,     0.88989,     0.89089,     0.89189,     0.89289,     0.89389,     0.89489,      0.8959,      0.8969,      0.8979,      0.8989,      0.8999,      0.9009,      0.9019,      0.9029,      0.9039,      0.9049,     0.90591,     0.90691,     0.90791,     0.90891,     0.90991,     0.91091,     0.91191,\n",
       "           0.91291,     0.91391,     0.91491,     0.91592,     0.91692,     0.91792,     0.91892,     0.91992,     0.92092,     0.92192,     0.92292,     0.92392,     0.92492,     0.92593,     0.92693,     0.92793,     0.92893,     0.92993,     0.93093,     0.93193,     0.93293,     0.93393,     0.93493,     0.93594,\n",
       "           0.93694,     0.93794,     0.93894,     0.93994,     0.94094,     0.94194,     0.94294,     0.94394,     0.94494,     0.94595,     0.94695,     0.94795,     0.94895,     0.94995,     0.95095,     0.95195,     0.95295,     0.95395,     0.95495,     0.95596,     0.95696,     0.95796,     0.95896,     0.95996,\n",
       "           0.96096,     0.96196,     0.96296,     0.96396,     0.96496,     0.96597,     0.96697,     0.96797,     0.96897,     0.96997,     0.97097,     0.97197,     0.97297,     0.97397,     0.97497,     0.97598,     0.97698,     0.97798,     0.97898,     0.97998,     0.98098,     0.98198,     0.98298,     0.98398,\n",
       "           0.98498,     0.98599,     0.98699,     0.98799,     0.98899,     0.98999,     0.99099,     0.99199,     0.99299,     0.99399,     0.99499,       0.996,       0.997,       0.998,       0.999,           1]), array([[    0.46032,     0.46032,     0.52321,     0.60274,     0.65713,     0.69745,     0.72715,     0.74904,     0.76535,     0.77881,     0.79009,     0.79891,      0.8067,     0.81352,      0.8193,     0.82462,     0.82939,     0.83377,     0.83743,     0.84091,     0.84387,     0.84705,     0.85026,\n",
       "             0.8529,     0.85511,     0.85703,     0.85876,     0.86062,     0.86269,     0.86422,     0.86593,     0.86742,     0.86906,     0.87054,     0.87175,     0.87295,     0.87424,     0.87559,     0.87655,     0.87764,     0.87891,     0.87998,     0.88104,     0.88203,     0.88299,     0.88392,\n",
       "            0.88483,     0.88533,     0.88618,     0.88727,     0.88793,     0.88876,     0.88946,     0.89006,     0.89064,      0.8913,     0.89185,     0.89245,     0.89315,     0.89393,     0.89461,     0.89508,     0.89577,     0.89653,     0.89728,     0.89757,     0.89798,     0.89876,     0.89939,\n",
       "            0.89984,     0.90034,     0.90072,     0.90131,     0.90184,     0.90228,     0.90278,     0.90311,     0.90356,     0.90408,     0.90456,     0.90472,     0.90522,     0.90559,     0.90606,     0.90644,     0.90687,     0.90713,      0.9076,     0.90803,     0.90844,     0.90895,     0.90924,\n",
       "            0.90947,     0.90981,     0.91013,     0.91043,     0.91083,     0.91112,     0.91149,     0.91203,     0.91229,     0.91271,     0.91311,     0.91337,     0.91381,     0.91409,     0.91446,     0.91478,     0.91513,     0.91549,      0.9159,     0.91626,     0.91645,     0.91683,     0.91727,\n",
       "            0.91752,     0.91775,     0.91804,     0.91839,     0.91879,     0.91904,      0.9192,     0.91946,     0.91976,     0.92012,     0.92042,     0.92073,     0.92108,     0.92137,     0.92158,     0.92179,     0.92193,     0.92205,     0.92216,     0.92231,     0.92263,     0.92271,     0.92304,\n",
       "            0.92323,     0.92332,     0.92351,     0.92371,       0.924,     0.92421,     0.92443,      0.9247,     0.92502,     0.92541,      0.9257,      0.9259,     0.92605,     0.92615,     0.92638,     0.92664,     0.92677,     0.92702,     0.92727,     0.92741,      0.9275,     0.92764,     0.92781,\n",
       "            0.92816,     0.92827,     0.92836,     0.92861,     0.92868,     0.92885,     0.92902,     0.92922,     0.92934,     0.92945,     0.92954,     0.92972,     0.92999,     0.93007,     0.93014,     0.93022,     0.93044,     0.93068,     0.93085,     0.93094,     0.93107,     0.93113,     0.93127,\n",
       "            0.93159,     0.93165,     0.93173,     0.93201,     0.93214,     0.93234,     0.93246,     0.93258,     0.93274,     0.93288,     0.93284,     0.93288,     0.93298,     0.93324,     0.93321,     0.93333,      0.9334,     0.93349,     0.93354,     0.93364,      0.9338,     0.93387,     0.93407,\n",
       "            0.93422,     0.93438,     0.93452,     0.93461,     0.93472,     0.93482,     0.93489,     0.93506,     0.93524,      0.9354,     0.93553,     0.93559,     0.93569,      0.9358,     0.93599,     0.93614,     0.93632,     0.93642,     0.93657,     0.93667,     0.93667,     0.93687,       0.937,\n",
       "            0.93711,     0.93741,     0.93749,     0.93757,     0.93766,     0.93772,     0.93775,     0.93784,     0.93794,     0.93801,     0.93814,     0.93823,     0.93845,     0.93863,     0.93877,     0.93883,     0.93888,     0.93901,     0.93912,     0.93924,      0.9393,     0.93935,     0.93943,\n",
       "            0.93958,     0.93978,      0.9399,     0.94001,     0.94021,     0.94055,     0.94073,     0.94075,     0.94105,     0.94125,     0.94141,     0.94148,      0.9416,     0.94158,     0.94167,     0.94162,     0.94179,     0.94191,     0.94206,     0.94213,     0.94226,     0.94236,     0.94243,\n",
       "            0.94253,     0.94251,     0.94259,      0.9427,     0.94276,     0.94282,     0.94296,     0.94293,     0.94297,     0.94303,     0.94309,     0.94312,     0.94313,     0.94325,     0.94334,     0.94344,     0.94367,     0.94381,     0.94386,      0.9439,     0.94393,     0.94397,     0.94406,\n",
       "            0.94412,     0.94414,     0.94427,     0.94428,     0.94432,     0.94442,     0.94439,     0.94439,     0.94436,     0.94443,     0.94457,     0.94462,     0.94471,     0.94473,     0.94481,     0.94498,     0.94508,     0.94526,     0.94524,      0.9453,     0.94543,     0.94545,     0.94545,\n",
       "            0.94549,     0.94563,     0.94574,     0.94585,     0.94594,     0.94596,     0.94606,     0.94613,     0.94617,     0.94625,     0.94612,     0.94625,     0.94631,     0.94638,     0.94634,     0.94637,     0.94649,     0.94652,     0.94654,     0.94657,     0.94659,     0.94673,      0.9467,\n",
       "            0.94679,     0.94691,     0.94693,     0.94697,     0.94696,     0.94701,     0.94702,     0.94712,     0.94721,      0.9473,     0.94741,     0.94747,     0.94751,     0.94749,     0.94769,     0.94768,     0.94777,     0.94779,     0.94792,     0.94796,     0.94807,     0.94816,     0.94824,\n",
       "            0.94825,     0.94832,     0.94832,     0.94835,     0.94845,     0.94835,     0.94838,     0.94833,     0.94831,     0.94836,     0.94842,     0.94843,     0.94854,     0.94861,     0.94858,     0.94859,     0.94854,     0.94855,     0.94857,     0.94862,     0.94868,      0.9487,     0.94868,\n",
       "            0.94864,     0.94865,     0.94863,     0.94858,     0.94873,     0.94881,     0.94885,     0.94889,      0.9489,     0.94886,     0.94887,     0.94889,     0.94894,     0.94908,     0.94915,     0.94906,     0.94901,     0.94897,     0.94906,     0.94898,     0.94911,     0.94918,     0.94906,\n",
       "            0.94912,     0.94915,     0.94916,     0.94926,     0.94935,     0.94922,     0.94911,     0.94916,     0.94903,     0.94903,     0.94902,     0.94889,     0.94883,     0.94884,     0.94869,     0.94864,     0.94855,     0.94845,     0.94846,     0.94836,     0.94829,     0.94835,     0.94827,\n",
       "            0.94828,     0.94818,     0.94819,     0.94811,     0.94815,     0.94814,     0.94814,      0.9481,     0.94806,     0.94812,     0.94821,     0.94815,     0.94817,     0.94817,     0.94824,     0.94832,      0.9484,     0.94849,     0.94852,     0.94854,     0.94829,     0.94821,     0.94825,\n",
       "            0.94826,     0.94816,     0.94816,     0.94801,     0.94807,     0.94813,     0.94806,     0.94794,     0.94784,      0.9477,     0.94783,     0.94776,     0.94772,      0.9477,     0.94761,     0.94748,      0.9475,     0.94754,     0.94764,     0.94768,     0.94764,     0.94774,     0.94765,\n",
       "            0.94761,     0.94756,      0.9475,     0.94752,     0.94753,     0.94733,     0.94742,     0.94747,     0.94739,     0.94744,     0.94741,      0.9473,     0.94725,     0.94722,     0.94728,     0.94732,     0.94726,     0.94714,     0.94714,      0.9471,     0.94691,     0.94689,     0.94682,\n",
       "            0.94681,     0.94687,     0.94689,      0.9469,     0.94682,     0.94685,     0.94694,      0.9469,     0.94684,     0.94687,     0.94688,     0.94683,     0.94682,     0.94667,      0.9466,     0.94663,     0.94658,     0.94658,      0.9466,     0.94661,     0.94639,     0.94626,     0.94607,\n",
       "            0.94596,     0.94585,     0.94578,     0.94573,     0.94571,     0.94579,     0.94581,     0.94574,     0.94575,     0.94563,     0.94559,     0.94565,      0.9457,      0.9457,     0.94557,     0.94549,     0.94565,     0.94539,     0.94524,      0.9451,     0.94482,     0.94468,     0.94458,\n",
       "            0.94446,     0.94426,     0.94431,     0.94434,     0.94437,     0.94413,     0.94395,     0.94375,     0.94363,     0.94349,     0.94342,     0.94327,     0.94305,     0.94291,     0.94279,     0.94255,     0.94232,     0.94232,     0.94224,     0.94208,     0.94187,      0.9417,     0.94142,\n",
       "            0.94121,     0.94098,      0.9407,     0.94058,     0.94037,     0.94029,     0.94009,     0.93984,      0.9396,     0.93936,     0.93896,     0.93878,     0.93843,      0.9382,     0.93783,     0.93755,     0.93741,     0.93742,     0.93724,     0.93697,     0.93671,     0.93646,     0.93618,\n",
       "            0.93606,     0.93594,     0.93555,     0.93554,     0.93516,     0.93504,     0.93491,     0.93478,     0.93441,       0.934,     0.93381,     0.93357,     0.93323,       0.933,     0.93254,      0.9322,     0.93185,     0.93169,     0.93155,     0.93118,     0.93096,     0.93066,     0.93037,\n",
       "            0.93006,     0.92981,      0.9293,     0.92887,     0.92859,     0.92842,     0.92795,     0.92763,     0.92726,     0.92699,     0.92683,      0.9265,     0.92606,     0.92568,     0.92498,     0.92433,     0.92376,     0.92333,     0.92294,     0.92243,     0.92211,     0.92163,      0.9213,\n",
       "            0.92071,     0.92022,     0.91981,     0.91942,     0.91862,     0.91797,     0.91751,     0.91701,     0.91647,     0.91592,     0.91542,     0.91477,      0.9143,     0.91379,     0.91308,      0.9125,     0.91178,     0.91123,     0.91067,     0.90993,     0.90919,     0.90869,     0.90792,\n",
       "            0.90719,     0.90671,     0.90605,     0.90558,     0.90478,      0.9041,     0.90356,     0.90277,     0.90201,      0.9013,      0.9003,     0.89982,      0.8986,     0.89779,     0.89721,      0.8966,     0.89573,     0.89515,     0.89425,     0.89334,     0.89243,     0.89159,     0.89094,\n",
       "            0.88997,     0.88922,      0.8882,     0.88673,     0.88568,     0.88455,     0.88378,      0.8824,     0.88143,     0.87996,     0.87884,     0.87787,     0.87661,     0.87561,     0.87458,     0.87341,     0.87199,     0.87106,     0.86974,     0.86869,     0.86719,     0.86608,     0.86472,\n",
       "            0.86326,     0.86148,     0.85994,     0.85844,     0.85681,     0.85535,     0.85422,     0.85251,      0.8506,     0.84892,     0.84742,     0.84566,     0.84385,     0.84263,     0.84041,     0.83842,     0.83654,     0.83499,     0.83277,     0.83051,     0.82812,     0.82625,      0.8239,\n",
       "            0.82156,     0.81945,     0.81738,     0.81566,     0.81358,     0.81104,     0.80821,     0.80587,     0.80309,     0.80048,     0.79769,     0.79407,     0.79147,     0.78901,     0.78609,     0.78302,     0.77987,     0.77677,     0.77346,     0.76993,     0.76674,     0.76262,     0.75886,\n",
       "            0.75527,     0.75197,     0.74866,     0.74492,     0.74085,     0.73635,      0.7322,     0.72852,     0.72426,     0.71953,     0.71465,     0.70972,     0.70604,     0.70161,     0.69745,     0.69323,     0.68834,     0.68339,     0.67845,      0.6743,     0.66907,     0.66394,     0.65915,\n",
       "            0.65373,     0.64836,     0.64206,     0.63637,      0.6306,     0.62465,     0.61873,     0.61298,     0.60709,     0.60137,     0.59655,     0.59079,      0.5849,     0.57921,     0.57284,     0.56776,     0.56097,     0.55447,     0.54751,     0.54036,     0.53277,     0.52559,     0.51866,\n",
       "            0.51145,      0.5035,     0.49628,     0.48833,     0.48014,     0.47339,     0.46694,     0.46128,     0.45326,     0.44653,     0.43942,     0.43198,      0.4248,      0.4172,     0.40829,     0.40007,     0.39186,     0.38329,     0.37521,     0.36659,     0.35847,     0.35092,      0.3431,\n",
       "            0.33489,     0.32727,     0.31989,     0.31256,     0.30452,     0.29714,     0.28917,     0.28177,     0.27455,     0.26615,     0.25842,     0.25054,     0.24296,     0.23512,     0.22839,     0.22223,     0.21491,     0.20759,     0.20059,     0.19437,     0.18777,     0.18097,      0.1736,\n",
       "            0.16617,     0.16016,     0.15463,     0.14919,     0.14316,     0.13715,     0.13206,     0.12719,     0.12202,     0.11776,      0.1113,     0.10674,     0.10282,    0.099124,    0.094124,    0.088638,    0.084268,    0.079953,    0.075325,    0.071244,    0.067717,    0.063694,     0.06035,\n",
       "           0.057782,    0.054626,     0.05162,    0.048178,    0.045306,    0.043141,    0.040898,     0.03788,    0.035692,    0.032762,    0.030757,    0.028664,    0.027718,    0.025666,    0.024046,    0.022693,    0.020199,    0.019039,    0.016374,     0.01467,     0.01366,     0.01263,    0.011663,\n",
       "           0.010453,   0.0094608,   0.0085244,   0.0077726,   0.0072107,   0.0058259,   0.0052031,   0.0048178,   0.0039381,   0.0036767,    0.003325,   0.0027864,   0.0024066,   0.0020873,   0.0019511,   0.0017129,   0.0016206,   0.0014559,   0.0012631,   0.0010131,  0.00097796,   0.0009428,  0.00086481,\n",
       "         0.00065909,  0.00053166,  0.00046337,  0.00041224,  0.00039919,  0.00039075,  0.00038232,  0.00037388,  0.00036545,  0.00035701,  0.00034858,  0.00034014,  0.00033171,  0.00032327,  0.00031484,   0.0003064,  0.00027461,  0.00023835,  0.00020241,  0.00017534,  0.00014827,   0.0001212,           0,\n",
       "                  0,           0,           0,           0,           0,           0,           0,           0,           0,           0,           0,           0,           0,           0,           0,           0,           0,           0,           0,           0,           0,           0,           0,\n",
       "                  0,           0,           0,           0,           0,           0,           0,           0,           0,           0,           0,           0,           0,           0,           0,           0,           0,           0,           0,           0,           0,           0,           0,\n",
       "                  0,           0,           0,           0,           0,           0,           0,           0,           0,           0,           0]]), 'Confidence', 'F1'], [array([          0,    0.001001,    0.002002,    0.003003,    0.004004,    0.005005,    0.006006,    0.007007,    0.008008,    0.009009,     0.01001,    0.011011,    0.012012,    0.013013,    0.014014,    0.015015,    0.016016,    0.017017,    0.018018,    0.019019,     0.02002,    0.021021,    0.022022,    0.023023,\n",
       "          0.024024,    0.025025,    0.026026,    0.027027,    0.028028,    0.029029,     0.03003,    0.031031,    0.032032,    0.033033,    0.034034,    0.035035,    0.036036,    0.037037,    0.038038,    0.039039,     0.04004,    0.041041,    0.042042,    0.043043,    0.044044,    0.045045,    0.046046,    0.047047,\n",
       "          0.048048,    0.049049,     0.05005,    0.051051,    0.052052,    0.053053,    0.054054,    0.055055,    0.056056,    0.057057,    0.058058,    0.059059,     0.06006,    0.061061,    0.062062,    0.063063,    0.064064,    0.065065,    0.066066,    0.067067,    0.068068,    0.069069,     0.07007,    0.071071,\n",
       "          0.072072,    0.073073,    0.074074,    0.075075,    0.076076,    0.077077,    0.078078,    0.079079,     0.08008,    0.081081,    0.082082,    0.083083,    0.084084,    0.085085,    0.086086,    0.087087,    0.088088,    0.089089,     0.09009,    0.091091,    0.092092,    0.093093,    0.094094,    0.095095,\n",
       "          0.096096,    0.097097,    0.098098,    0.099099,      0.1001,      0.1011,      0.1021,      0.1031,      0.1041,     0.10511,     0.10611,     0.10711,     0.10811,     0.10911,     0.11011,     0.11111,     0.11211,     0.11311,     0.11411,     0.11512,     0.11612,     0.11712,     0.11812,     0.11912,\n",
       "           0.12012,     0.12112,     0.12212,     0.12312,     0.12412,     0.12513,     0.12613,     0.12713,     0.12813,     0.12913,     0.13013,     0.13113,     0.13213,     0.13313,     0.13413,     0.13514,     0.13614,     0.13714,     0.13814,     0.13914,     0.14014,     0.14114,     0.14214,     0.14314,\n",
       "           0.14414,     0.14515,     0.14615,     0.14715,     0.14815,     0.14915,     0.15015,     0.15115,     0.15215,     0.15315,     0.15415,     0.15516,     0.15616,     0.15716,     0.15816,     0.15916,     0.16016,     0.16116,     0.16216,     0.16316,     0.16416,     0.16517,     0.16617,     0.16717,\n",
       "           0.16817,     0.16917,     0.17017,     0.17117,     0.17217,     0.17317,     0.17417,     0.17518,     0.17618,     0.17718,     0.17818,     0.17918,     0.18018,     0.18118,     0.18218,     0.18318,     0.18418,     0.18519,     0.18619,     0.18719,     0.18819,     0.18919,     0.19019,     0.19119,\n",
       "           0.19219,     0.19319,     0.19419,      0.1952,      0.1962,      0.1972,      0.1982,      0.1992,      0.2002,      0.2012,      0.2022,      0.2032,      0.2042,     0.20521,     0.20621,     0.20721,     0.20821,     0.20921,     0.21021,     0.21121,     0.21221,     0.21321,     0.21421,     0.21522,\n",
       "           0.21622,     0.21722,     0.21822,     0.21922,     0.22022,     0.22122,     0.22222,     0.22322,     0.22422,     0.22523,     0.22623,     0.22723,     0.22823,     0.22923,     0.23023,     0.23123,     0.23223,     0.23323,     0.23423,     0.23524,     0.23624,     0.23724,     0.23824,     0.23924,\n",
       "           0.24024,     0.24124,     0.24224,     0.24324,     0.24424,     0.24525,     0.24625,     0.24725,     0.24825,     0.24925,     0.25025,     0.25125,     0.25225,     0.25325,     0.25425,     0.25526,     0.25626,     0.25726,     0.25826,     0.25926,     0.26026,     0.26126,     0.26226,     0.26326,\n",
       "           0.26426,     0.26527,     0.26627,     0.26727,     0.26827,     0.26927,     0.27027,     0.27127,     0.27227,     0.27327,     0.27427,     0.27528,     0.27628,     0.27728,     0.27828,     0.27928,     0.28028,     0.28128,     0.28228,     0.28328,     0.28428,     0.28529,     0.28629,     0.28729,\n",
       "           0.28829,     0.28929,     0.29029,     0.29129,     0.29229,     0.29329,     0.29429,      0.2953,      0.2963,      0.2973,      0.2983,      0.2993,      0.3003,      0.3013,      0.3023,      0.3033,      0.3043,     0.30531,     0.30631,     0.30731,     0.30831,     0.30931,     0.31031,     0.31131,\n",
       "           0.31231,     0.31331,     0.31431,     0.31532,     0.31632,     0.31732,     0.31832,     0.31932,     0.32032,     0.32132,     0.32232,     0.32332,     0.32432,     0.32533,     0.32633,     0.32733,     0.32833,     0.32933,     0.33033,     0.33133,     0.33233,     0.33333,     0.33433,     0.33534,\n",
       "           0.33634,     0.33734,     0.33834,     0.33934,     0.34034,     0.34134,     0.34234,     0.34334,     0.34434,     0.34535,     0.34635,     0.34735,     0.34835,     0.34935,     0.35035,     0.35135,     0.35235,     0.35335,     0.35435,     0.35536,     0.35636,     0.35736,     0.35836,     0.35936,\n",
       "           0.36036,     0.36136,     0.36236,     0.36336,     0.36436,     0.36537,     0.36637,     0.36737,     0.36837,     0.36937,     0.37037,     0.37137,     0.37237,     0.37337,     0.37437,     0.37538,     0.37638,     0.37738,     0.37838,     0.37938,     0.38038,     0.38138,     0.38238,     0.38338,\n",
       "           0.38438,     0.38539,     0.38639,     0.38739,     0.38839,     0.38939,     0.39039,     0.39139,     0.39239,     0.39339,     0.39439,      0.3954,      0.3964,      0.3974,      0.3984,      0.3994,      0.4004,      0.4014,      0.4024,      0.4034,      0.4044,     0.40541,     0.40641,     0.40741,\n",
       "           0.40841,     0.40941,     0.41041,     0.41141,     0.41241,     0.41341,     0.41441,     0.41542,     0.41642,     0.41742,     0.41842,     0.41942,     0.42042,     0.42142,     0.42242,     0.42342,     0.42442,     0.42543,     0.42643,     0.42743,     0.42843,     0.42943,     0.43043,     0.43143,\n",
       "           0.43243,     0.43343,     0.43443,     0.43544,     0.43644,     0.43744,     0.43844,     0.43944,     0.44044,     0.44144,     0.44244,     0.44344,     0.44444,     0.44545,     0.44645,     0.44745,     0.44845,     0.44945,     0.45045,     0.45145,     0.45245,     0.45345,     0.45445,     0.45546,\n",
       "           0.45646,     0.45746,     0.45846,     0.45946,     0.46046,     0.46146,     0.46246,     0.46346,     0.46446,     0.46547,     0.46647,     0.46747,     0.46847,     0.46947,     0.47047,     0.47147,     0.47247,     0.47347,     0.47447,     0.47548,     0.47648,     0.47748,     0.47848,     0.47948,\n",
       "           0.48048,     0.48148,     0.48248,     0.48348,     0.48448,     0.48549,     0.48649,     0.48749,     0.48849,     0.48949,     0.49049,     0.49149,     0.49249,     0.49349,     0.49449,      0.4955,      0.4965,      0.4975,      0.4985,      0.4995,      0.5005,      0.5015,      0.5025,      0.5035,\n",
       "            0.5045,     0.50551,     0.50651,     0.50751,     0.50851,     0.50951,     0.51051,     0.51151,     0.51251,     0.51351,     0.51451,     0.51552,     0.51652,     0.51752,     0.51852,     0.51952,     0.52052,     0.52152,     0.52252,     0.52352,     0.52452,     0.52553,     0.52653,     0.52753,\n",
       "           0.52853,     0.52953,     0.53053,     0.53153,     0.53253,     0.53353,     0.53453,     0.53554,     0.53654,     0.53754,     0.53854,     0.53954,     0.54054,     0.54154,     0.54254,     0.54354,     0.54454,     0.54555,     0.54655,     0.54755,     0.54855,     0.54955,     0.55055,     0.55155,\n",
       "           0.55255,     0.55355,     0.55455,     0.55556,     0.55656,     0.55756,     0.55856,     0.55956,     0.56056,     0.56156,     0.56256,     0.56356,     0.56456,     0.56557,     0.56657,     0.56757,     0.56857,     0.56957,     0.57057,     0.57157,     0.57257,     0.57357,     0.57457,     0.57558,\n",
       "           0.57658,     0.57758,     0.57858,     0.57958,     0.58058,     0.58158,     0.58258,     0.58358,     0.58458,     0.58559,     0.58659,     0.58759,     0.58859,     0.58959,     0.59059,     0.59159,     0.59259,     0.59359,     0.59459,      0.5956,      0.5966,      0.5976,      0.5986,      0.5996,\n",
       "            0.6006,      0.6016,      0.6026,      0.6036,      0.6046,     0.60561,     0.60661,     0.60761,     0.60861,     0.60961,     0.61061,     0.61161,     0.61261,     0.61361,     0.61461,     0.61562,     0.61662,     0.61762,     0.61862,     0.61962,     0.62062,     0.62162,     0.62262,     0.62362,\n",
       "           0.62462,     0.62563,     0.62663,     0.62763,     0.62863,     0.62963,     0.63063,     0.63163,     0.63263,     0.63363,     0.63463,     0.63564,     0.63664,     0.63764,     0.63864,     0.63964,     0.64064,     0.64164,     0.64264,     0.64364,     0.64464,     0.64565,     0.64665,     0.64765,\n",
       "           0.64865,     0.64965,     0.65065,     0.65165,     0.65265,     0.65365,     0.65465,     0.65566,     0.65666,     0.65766,     0.65866,     0.65966,     0.66066,     0.66166,     0.66266,     0.66366,     0.66466,     0.66567,     0.66667,     0.66767,     0.66867,     0.66967,     0.67067,     0.67167,\n",
       "           0.67267,     0.67367,     0.67467,     0.67568,     0.67668,     0.67768,     0.67868,     0.67968,     0.68068,     0.68168,     0.68268,     0.68368,     0.68468,     0.68569,     0.68669,     0.68769,     0.68869,     0.68969,     0.69069,     0.69169,     0.69269,     0.69369,     0.69469,      0.6957,\n",
       "            0.6967,      0.6977,      0.6987,      0.6997,      0.7007,      0.7017,      0.7027,      0.7037,      0.7047,     0.70571,     0.70671,     0.70771,     0.70871,     0.70971,     0.71071,     0.71171,     0.71271,     0.71371,     0.71471,     0.71572,     0.71672,     0.71772,     0.71872,     0.71972,\n",
       "           0.72072,     0.72172,     0.72272,     0.72372,     0.72472,     0.72573,     0.72673,     0.72773,     0.72873,     0.72973,     0.73073,     0.73173,     0.73273,     0.73373,     0.73473,     0.73574,     0.73674,     0.73774,     0.73874,     0.73974,     0.74074,     0.74174,     0.74274,     0.74374,\n",
       "           0.74474,     0.74575,     0.74675,     0.74775,     0.74875,     0.74975,     0.75075,     0.75175,     0.75275,     0.75375,     0.75475,     0.75576,     0.75676,     0.75776,     0.75876,     0.75976,     0.76076,     0.76176,     0.76276,     0.76376,     0.76476,     0.76577,     0.76677,     0.76777,\n",
       "           0.76877,     0.76977,     0.77077,     0.77177,     0.77277,     0.77377,     0.77477,     0.77578,     0.77678,     0.77778,     0.77878,     0.77978,     0.78078,     0.78178,     0.78278,     0.78378,     0.78478,     0.78579,     0.78679,     0.78779,     0.78879,     0.78979,     0.79079,     0.79179,\n",
       "           0.79279,     0.79379,     0.79479,      0.7958,      0.7968,      0.7978,      0.7988,      0.7998,      0.8008,      0.8018,      0.8028,      0.8038,      0.8048,     0.80581,     0.80681,     0.80781,     0.80881,     0.80981,     0.81081,     0.81181,     0.81281,     0.81381,     0.81481,     0.81582,\n",
       "           0.81682,     0.81782,     0.81882,     0.81982,     0.82082,     0.82182,     0.82282,     0.82382,     0.82482,     0.82583,     0.82683,     0.82783,     0.82883,     0.82983,     0.83083,     0.83183,     0.83283,     0.83383,     0.83483,     0.83584,     0.83684,     0.83784,     0.83884,     0.83984,\n",
       "           0.84084,     0.84184,     0.84284,     0.84384,     0.84484,     0.84585,     0.84685,     0.84785,     0.84885,     0.84985,     0.85085,     0.85185,     0.85285,     0.85385,     0.85485,     0.85586,     0.85686,     0.85786,     0.85886,     0.85986,     0.86086,     0.86186,     0.86286,     0.86386,\n",
       "           0.86486,     0.86587,     0.86687,     0.86787,     0.86887,     0.86987,     0.87087,     0.87187,     0.87287,     0.87387,     0.87487,     0.87588,     0.87688,     0.87788,     0.87888,     0.87988,     0.88088,     0.88188,     0.88288,     0.88388,     0.88488,     0.88589,     0.88689,     0.88789,\n",
       "           0.88889,     0.88989,     0.89089,     0.89189,     0.89289,     0.89389,     0.89489,      0.8959,      0.8969,      0.8979,      0.8989,      0.8999,      0.9009,      0.9019,      0.9029,      0.9039,      0.9049,     0.90591,     0.90691,     0.90791,     0.90891,     0.90991,     0.91091,     0.91191,\n",
       "           0.91291,     0.91391,     0.91491,     0.91592,     0.91692,     0.91792,     0.91892,     0.91992,     0.92092,     0.92192,     0.92292,     0.92392,     0.92492,     0.92593,     0.92693,     0.92793,     0.92893,     0.92993,     0.93093,     0.93193,     0.93293,     0.93393,     0.93493,     0.93594,\n",
       "           0.93694,     0.93794,     0.93894,     0.93994,     0.94094,     0.94194,     0.94294,     0.94394,     0.94494,     0.94595,     0.94695,     0.94795,     0.94895,     0.94995,     0.95095,     0.95195,     0.95295,     0.95395,     0.95495,     0.95596,     0.95696,     0.95796,     0.95896,     0.95996,\n",
       "           0.96096,     0.96196,     0.96296,     0.96396,     0.96496,     0.96597,     0.96697,     0.96797,     0.96897,     0.96997,     0.97097,     0.97197,     0.97297,     0.97397,     0.97497,     0.97598,     0.97698,     0.97798,     0.97898,     0.97998,     0.98098,     0.98198,     0.98298,     0.98398,\n",
       "           0.98498,     0.98599,     0.98699,     0.98799,     0.98899,     0.98999,     0.99099,     0.99199,     0.99299,     0.99399,     0.99499,       0.996,       0.997,       0.998,       0.999,           1]), array([[    0.29906,     0.29906,     0.35441,     0.43158,     0.48962,     0.53577,     0.57166,     0.59921,     0.62038,      0.6383,     0.65365,     0.66586,     0.67674,     0.68642,     0.69475,     0.70243,     0.70938,     0.71582,     0.72126,     0.72642,     0.73088,     0.73568,     0.74056,\n",
       "            0.74457,       0.748,     0.75103,     0.75372,     0.75659,      0.7598,     0.76221,     0.76493,     0.76731,     0.76998,     0.77234,     0.77427,     0.77619,     0.77827,     0.78045,     0.78204,     0.78377,     0.78581,     0.78752,     0.78921,      0.7908,     0.79239,     0.79398,\n",
       "            0.79548,     0.79632,     0.79775,      0.7996,      0.8007,     0.80205,      0.8032,     0.80417,     0.80516,     0.80623,     0.80712,     0.80811,     0.80933,     0.81069,     0.81183,     0.81267,     0.81385,     0.81513,     0.81637,     0.81686,     0.81756,     0.81886,     0.81991,\n",
       "             0.8207,      0.8216,     0.82223,     0.82322,     0.82413,     0.82491,     0.82577,     0.82632,     0.82711,     0.82802,     0.82886,     0.82917,     0.83007,     0.83069,     0.83148,      0.8322,     0.83297,     0.83348,      0.8343,     0.83506,     0.83575,     0.83673,     0.83722,\n",
       "            0.83765,     0.83822,     0.83887,     0.83938,      0.8401,     0.84059,     0.84126,     0.84219,     0.84274,     0.84345,     0.84414,     0.84459,     0.84534,     0.84585,     0.84648,     0.84706,     0.84768,     0.84829,     0.84899,     0.84961,     0.84998,      0.8507,     0.85149,\n",
       "            0.85204,     0.85248,     0.85298,     0.85359,     0.85428,     0.85474,     0.85505,     0.85551,     0.85603,     0.85664,     0.85718,     0.85775,     0.85842,     0.85898,     0.85941,     0.85978,      0.8601,     0.86035,     0.86058,     0.86083,     0.86144,     0.86161,     0.86226,\n",
       "            0.86263,     0.86284,     0.86325,     0.86369,     0.86422,     0.86466,     0.86503,     0.86559,     0.86614,     0.86691,     0.86751,     0.86785,     0.86815,     0.86836,     0.86877,     0.86923,     0.86946,      0.8699,     0.87034,     0.87058,     0.87079,     0.87104,     0.87134,\n",
       "            0.87194,     0.87217,     0.87241,     0.87285,     0.87299,     0.87337,      0.8737,     0.87406,     0.87435,     0.87462,     0.87491,     0.87525,     0.87574,     0.87595,     0.87613,     0.87635,     0.87677,     0.87724,     0.87759,     0.87783,      0.8781,     0.87823,     0.87854,\n",
       "            0.87909,     0.87924,     0.87942,     0.88002,     0.88032,     0.88067,     0.88094,     0.88115,     0.88159,     0.88188,     0.88201,     0.88217,     0.88238,     0.88285,     0.88296,     0.88326,     0.88343,     0.88366,     0.88384,      0.8841,     0.88441,     0.88463,     0.88503,\n",
       "            0.88541,     0.88575,     0.88604,     0.88629,     0.88665,     0.88691,     0.88703,     0.88735,     0.88774,     0.88807,     0.88835,     0.88854,     0.88872,     0.88901,     0.88938,     0.88978,      0.8901,     0.89029,      0.8906,     0.89083,     0.89094,     0.89138,     0.89166,\n",
       "            0.89191,     0.89245,     0.89268,     0.89296,      0.8932,      0.8934,     0.89354,     0.89378,     0.89401,     0.89421,     0.89449,     0.89466,     0.89513,      0.8955,     0.89584,     0.89596,     0.89613,     0.89642,     0.89667,     0.89692,     0.89711,     0.89729,     0.89747,\n",
       "            0.89786,     0.89823,     0.89855,     0.89874,     0.89922,     0.89989,     0.90023,     0.90034,      0.9009,     0.90126,     0.90167,     0.90181,     0.90209,     0.90218,     0.90246,     0.90262,     0.90303,     0.90337,     0.90369,     0.90399,     0.90427,     0.90454,     0.90467,\n",
       "            0.90491,     0.90496,     0.90528,     0.90552,      0.9058,       0.906,      0.9063,     0.90634,     0.90654,     0.90672,     0.90687,     0.90704,      0.9071,     0.90736,      0.9076,     0.90783,     0.90827,     0.90856,     0.90866,     0.90894,     0.90922,     0.90938,     0.90964,\n",
       "            0.90988,     0.91009,     0.91041,     0.91058,     0.91085,     0.91106,     0.91113,     0.91125,     0.91134,     0.91152,     0.91183,       0.912,     0.91217,     0.91233,     0.91254,     0.91293,     0.91317,     0.91361,     0.91374,     0.91394,     0.91417,     0.91434,     0.91448,\n",
       "            0.91455,     0.91486,      0.9152,     0.91545,     0.91571,     0.91583,     0.91606,     0.91638,     0.91645,     0.91671,     0.91672,     0.91699,      0.9172,     0.91746,     0.91762,     0.91786,     0.91817,     0.91832,     0.91844,     0.91855,     0.91863,     0.91894,     0.91907,\n",
       "            0.91933,     0.91959,     0.91973,      0.9198,        0.92,     0.92014,     0.92021,     0.92053,     0.92079,      0.9211,      0.9213,     0.92157,     0.92168,     0.92179,     0.92216,     0.92236,     0.92263,     0.92283,     0.92319,     0.92326,     0.92348,     0.92373,     0.92397,\n",
       "            0.92417,     0.92435,     0.92453,     0.92473,     0.92501,     0.92514,     0.92531,     0.92543,     0.92549,     0.92567,     0.92587,     0.92614,     0.92643,     0.92667,     0.92688,     0.92705,     0.92707,     0.92721,     0.92728,     0.92751,     0.92769,      0.9279,     0.92796,\n",
       "            0.92806,     0.92822,     0.92836,     0.92842,     0.92874,     0.92899,     0.92914,     0.92923,     0.92931,     0.92941,     0.92958,     0.92982,     0.93005,     0.93044,     0.93071,     0.93077,     0.93085,     0.93093,     0.93122,     0.93134,     0.93168,     0.93185,     0.93205,\n",
       "            0.93222,     0.93232,     0.93258,     0.93297,     0.93316,     0.93331,     0.93338,     0.93369,      0.9337,     0.93385,     0.93402,       0.934,     0.93409,      0.9343,     0.93441,     0.93453,     0.93456,      0.9346,     0.93472,     0.93484,      0.9349,     0.93514,     0.93535,\n",
       "            0.93553,     0.93551,     0.93564,     0.93585,     0.93612,     0.93625,      0.9366,     0.93668,     0.93676,     0.93703,      0.9372,     0.93725,     0.93747,     0.93767,     0.93801,     0.93825,     0.93842,     0.93874,     0.93894,     0.93914,     0.93913,     0.93926,     0.93955,\n",
       "            0.93977,      0.9399,     0.94014,     0.94038,     0.94064,     0.94081,     0.94104,     0.94107,     0.94119,     0.94131,     0.94172,     0.94199,     0.94204,      0.9422,     0.94233,     0.94241,     0.94263,     0.94287,     0.94321,     0.94341,     0.94352,     0.94382,     0.94404,\n",
       "            0.94407,     0.94416,      0.9442,     0.94449,     0.94466,     0.94482,     0.94509,     0.94533,      0.9455,     0.94579,     0.94596,     0.94613,     0.94631,     0.94645,     0.94663,     0.94682,      0.9469,     0.94703,     0.94721,     0.94744,     0.94758,     0.94778,     0.94791,\n",
       "            0.94809,     0.94841,     0.94864,     0.94893,     0.94912,     0.94928,     0.94954,     0.94967,     0.94994,     0.95016,     0.95048,     0.95064,     0.95082,      0.9509,     0.95122,     0.95143,     0.95154,     0.95192,     0.95216,     0.95244,     0.95256,     0.95269,      0.9529,\n",
       "            0.95318,     0.95335,     0.95357,     0.95394,      0.9541,     0.95443,     0.95473,     0.95486,     0.95505,     0.95523,     0.95546,     0.95568,     0.95589,     0.95614,     0.95632,      0.9566,     0.95711,     0.95726,     0.95734,     0.95747,     0.95755,     0.95782,      0.9581,\n",
       "            0.95833,     0.95842,     0.95861,     0.95882,      0.9591,     0.95913,     0.95916,      0.9593,     0.95958,     0.95986,     0.96014,     0.96036,      0.9605,     0.96074,     0.96083,     0.96086,     0.96104,     0.96148,      0.9615,      0.9617,     0.96184,     0.96197,      0.9621,\n",
       "            0.96228,     0.96246,     0.96254,     0.96263,     0.96282,     0.96305,     0.96319,     0.96322,     0.96355,     0.96369,     0.96371,     0.96394,     0.96417,      0.9644,     0.96451,     0.96471,      0.9649,     0.96517,     0.96544,     0.96553,     0.96561,     0.96564,     0.96573,\n",
       "            0.96584,     0.96591,     0.96595,     0.96629,     0.96637,     0.96655,     0.96676,     0.96696,     0.96724,     0.96734,     0.96766,     0.96788,     0.96808,     0.96828,      0.9684,     0.96863,     0.96877,     0.96919,     0.96966,     0.96982,     0.96993,      0.9701,      0.9703,\n",
       "            0.97038,     0.97052,      0.9707,     0.97073,     0.97098,     0.97123,     0.97141,     0.97182,     0.97201,      0.9721,      0.9722,      0.9723,     0.97237,     0.97245,     0.97242,     0.97265,     0.97272,     0.97291,     0.97311,      0.9734,     0.97366,     0.97368,     0.97377,\n",
       "            0.97396,     0.97421,     0.97446,     0.97476,     0.97478,     0.97502,     0.97538,     0.97563,     0.97582,     0.97607,     0.97638,      0.9764,     0.97699,     0.97735,     0.97749,     0.97757,      0.9776,      0.9778,       0.978,     0.97808,     0.97827,     0.97853,     0.97861,\n",
       "            0.97869,     0.97884,     0.97887,     0.97897,     0.97899,     0.97919,     0.97951,     0.97965,     0.97985,     0.97993,     0.98012,     0.98039,      0.9807,     0.98101,     0.98111,     0.98114,     0.98117,     0.98144,      0.9817,     0.98173,     0.98193,     0.98214,     0.98247,\n",
       "            0.98267,     0.98289,     0.98303,      0.9831,     0.98337,     0.98363,     0.98385,     0.98386,     0.98395,     0.98415,     0.98418,     0.98451,     0.98463,     0.98482,     0.98497,     0.98528,     0.98545,     0.98568,     0.98576,     0.98624,     0.98645,     0.98667,     0.98689,\n",
       "            0.98724,     0.98738,     0.98754,     0.98782,     0.98824,      0.9884,      0.9889,     0.98899,     0.98895,     0.98891,     0.98901,      0.9891,      0.9892,     0.98944,      0.9896,     0.98983,     0.98985,     0.98996,     0.99012,     0.99035,     0.99049,     0.99055,     0.99057,\n",
       "            0.99074,     0.99077,     0.99094,     0.99098,     0.99116,     0.99119,     0.99114,     0.99124,     0.99126,     0.99136,     0.99139,     0.99185,      0.9918,     0.99176,     0.99179,     0.99174,     0.99168,     0.99171,     0.99173,     0.99167,     0.99161,      0.9917,     0.99196,\n",
       "            0.99206,     0.99225,     0.99236,     0.99247,     0.99257,     0.99275,     0.99295,     0.99324,     0.99362,     0.99373,     0.99393,     0.99405,     0.99418,     0.99422,     0.99416,      0.9943,     0.99443,     0.99456,     0.99489,     0.99494,     0.99518,     0.99523,     0.99538,\n",
       "            0.99542,     0.99547,     0.99541,     0.99545,     0.99561,     0.99588,     0.99583,       0.996,     0.99617,     0.99635,     0.99655,     0.99674,     0.99669,     0.99665,     0.99672,     0.99681,     0.99701,     0.99696,     0.99691,     0.99685,     0.99693,     0.99688,     0.99682,\n",
       "            0.99705,     0.99744,      0.9977,      0.9978,     0.99775,     0.99787,     0.99784,     0.99797,     0.99792,     0.99788,     0.99856,     0.99853,     0.99868,     0.99865,     0.99881,     0.99898,     0.99917,     0.99914,     0.99912,     0.99909,     0.99907,     0.99905,     0.99926,\n",
       "            0.99949,     0.99974,     0.99973,     0.99973,     0.99972,     0.99971,      0.9997,     0.99969,     0.99968,           1,           1,           1,           1,           1,           1,           1,           1,           1,           1,           1,           1,           1,           1,\n",
       "                  1,           1,           1,           1,           1,           1,           1,           1,           1,           1,           1,           1,           1,           1,           1,           1,           1,           1,           1,           1,           1,           1,           1,\n",
       "                  1,           1,           1,           1,           1,           1,           1,           1,           1,           1,           1,           1,           1,           1,           1,           1,           1,           1,           1,           1,           1,           1,           1,\n",
       "                  1,           1,           1,           1,           1,           1,           1,           1,           1,           1,           1,           1,           1,           1,           1,           1,           1,           1,           1,           1,           1,           1,           1,\n",
       "                  1,           1,           1,           1,           1,           1,           1,           1,           1,           1,           1,           1,           1,           1,           1,           1,           1,           1,           1,           1,           1,           1,           1,\n",
       "                  1,           1,           1,           1,           1,           1,           1,           1,           1,           1,           1,           1,           1,           1,           1,           1,           1,           1,           1,           1,           1,           1,           1,\n",
       "                  1,           1,           1,           1,           1,           1,           1,           1,           1,           1,           1,           1,           1,           1,           1,           1,           1,           1,           1,           1,           1,           1,           1,\n",
       "                  1,           1,           1,           1,           1,           1,           1,           1,           1,           1,           1]]), 'Confidence', 'Precision'], [array([          0,    0.001001,    0.002002,    0.003003,    0.004004,    0.005005,    0.006006,    0.007007,    0.008008,    0.009009,     0.01001,    0.011011,    0.012012,    0.013013,    0.014014,    0.015015,    0.016016,    0.017017,    0.018018,    0.019019,     0.02002,    0.021021,    0.022022,    0.023023,\n",
       "          0.024024,    0.025025,    0.026026,    0.027027,    0.028028,    0.029029,     0.03003,    0.031031,    0.032032,    0.033033,    0.034034,    0.035035,    0.036036,    0.037037,    0.038038,    0.039039,     0.04004,    0.041041,    0.042042,    0.043043,    0.044044,    0.045045,    0.046046,    0.047047,\n",
       "          0.048048,    0.049049,     0.05005,    0.051051,    0.052052,    0.053053,    0.054054,    0.055055,    0.056056,    0.057057,    0.058058,    0.059059,     0.06006,    0.061061,    0.062062,    0.063063,    0.064064,    0.065065,    0.066066,    0.067067,    0.068068,    0.069069,     0.07007,    0.071071,\n",
       "          0.072072,    0.073073,    0.074074,    0.075075,    0.076076,    0.077077,    0.078078,    0.079079,     0.08008,    0.081081,    0.082082,    0.083083,    0.084084,    0.085085,    0.086086,    0.087087,    0.088088,    0.089089,     0.09009,    0.091091,    0.092092,    0.093093,    0.094094,    0.095095,\n",
       "          0.096096,    0.097097,    0.098098,    0.099099,      0.1001,      0.1011,      0.1021,      0.1031,      0.1041,     0.10511,     0.10611,     0.10711,     0.10811,     0.10911,     0.11011,     0.11111,     0.11211,     0.11311,     0.11411,     0.11512,     0.11612,     0.11712,     0.11812,     0.11912,\n",
       "           0.12012,     0.12112,     0.12212,     0.12312,     0.12412,     0.12513,     0.12613,     0.12713,     0.12813,     0.12913,     0.13013,     0.13113,     0.13213,     0.13313,     0.13413,     0.13514,     0.13614,     0.13714,     0.13814,     0.13914,     0.14014,     0.14114,     0.14214,     0.14314,\n",
       "           0.14414,     0.14515,     0.14615,     0.14715,     0.14815,     0.14915,     0.15015,     0.15115,     0.15215,     0.15315,     0.15415,     0.15516,     0.15616,     0.15716,     0.15816,     0.15916,     0.16016,     0.16116,     0.16216,     0.16316,     0.16416,     0.16517,     0.16617,     0.16717,\n",
       "           0.16817,     0.16917,     0.17017,     0.17117,     0.17217,     0.17317,     0.17417,     0.17518,     0.17618,     0.17718,     0.17818,     0.17918,     0.18018,     0.18118,     0.18218,     0.18318,     0.18418,     0.18519,     0.18619,     0.18719,     0.18819,     0.18919,     0.19019,     0.19119,\n",
       "           0.19219,     0.19319,     0.19419,      0.1952,      0.1962,      0.1972,      0.1982,      0.1992,      0.2002,      0.2012,      0.2022,      0.2032,      0.2042,     0.20521,     0.20621,     0.20721,     0.20821,     0.20921,     0.21021,     0.21121,     0.21221,     0.21321,     0.21421,     0.21522,\n",
       "           0.21622,     0.21722,     0.21822,     0.21922,     0.22022,     0.22122,     0.22222,     0.22322,     0.22422,     0.22523,     0.22623,     0.22723,     0.22823,     0.22923,     0.23023,     0.23123,     0.23223,     0.23323,     0.23423,     0.23524,     0.23624,     0.23724,     0.23824,     0.23924,\n",
       "           0.24024,     0.24124,     0.24224,     0.24324,     0.24424,     0.24525,     0.24625,     0.24725,     0.24825,     0.24925,     0.25025,     0.25125,     0.25225,     0.25325,     0.25425,     0.25526,     0.25626,     0.25726,     0.25826,     0.25926,     0.26026,     0.26126,     0.26226,     0.26326,\n",
       "           0.26426,     0.26527,     0.26627,     0.26727,     0.26827,     0.26927,     0.27027,     0.27127,     0.27227,     0.27327,     0.27427,     0.27528,     0.27628,     0.27728,     0.27828,     0.27928,     0.28028,     0.28128,     0.28228,     0.28328,     0.28428,     0.28529,     0.28629,     0.28729,\n",
       "           0.28829,     0.28929,     0.29029,     0.29129,     0.29229,     0.29329,     0.29429,      0.2953,      0.2963,      0.2973,      0.2983,      0.2993,      0.3003,      0.3013,      0.3023,      0.3033,      0.3043,     0.30531,     0.30631,     0.30731,     0.30831,     0.30931,     0.31031,     0.31131,\n",
       "           0.31231,     0.31331,     0.31431,     0.31532,     0.31632,     0.31732,     0.31832,     0.31932,     0.32032,     0.32132,     0.32232,     0.32332,     0.32432,     0.32533,     0.32633,     0.32733,     0.32833,     0.32933,     0.33033,     0.33133,     0.33233,     0.33333,     0.33433,     0.33534,\n",
       "           0.33634,     0.33734,     0.33834,     0.33934,     0.34034,     0.34134,     0.34234,     0.34334,     0.34434,     0.34535,     0.34635,     0.34735,     0.34835,     0.34935,     0.35035,     0.35135,     0.35235,     0.35335,     0.35435,     0.35536,     0.35636,     0.35736,     0.35836,     0.35936,\n",
       "           0.36036,     0.36136,     0.36236,     0.36336,     0.36436,     0.36537,     0.36637,     0.36737,     0.36837,     0.36937,     0.37037,     0.37137,     0.37237,     0.37337,     0.37437,     0.37538,     0.37638,     0.37738,     0.37838,     0.37938,     0.38038,     0.38138,     0.38238,     0.38338,\n",
       "           0.38438,     0.38539,     0.38639,     0.38739,     0.38839,     0.38939,     0.39039,     0.39139,     0.39239,     0.39339,     0.39439,      0.3954,      0.3964,      0.3974,      0.3984,      0.3994,      0.4004,      0.4014,      0.4024,      0.4034,      0.4044,     0.40541,     0.40641,     0.40741,\n",
       "           0.40841,     0.40941,     0.41041,     0.41141,     0.41241,     0.41341,     0.41441,     0.41542,     0.41642,     0.41742,     0.41842,     0.41942,     0.42042,     0.42142,     0.42242,     0.42342,     0.42442,     0.42543,     0.42643,     0.42743,     0.42843,     0.42943,     0.43043,     0.43143,\n",
       "           0.43243,     0.43343,     0.43443,     0.43544,     0.43644,     0.43744,     0.43844,     0.43944,     0.44044,     0.44144,     0.44244,     0.44344,     0.44444,     0.44545,     0.44645,     0.44745,     0.44845,     0.44945,     0.45045,     0.45145,     0.45245,     0.45345,     0.45445,     0.45546,\n",
       "           0.45646,     0.45746,     0.45846,     0.45946,     0.46046,     0.46146,     0.46246,     0.46346,     0.46446,     0.46547,     0.46647,     0.46747,     0.46847,     0.46947,     0.47047,     0.47147,     0.47247,     0.47347,     0.47447,     0.47548,     0.47648,     0.47748,     0.47848,     0.47948,\n",
       "           0.48048,     0.48148,     0.48248,     0.48348,     0.48448,     0.48549,     0.48649,     0.48749,     0.48849,     0.48949,     0.49049,     0.49149,     0.49249,     0.49349,     0.49449,      0.4955,      0.4965,      0.4975,      0.4985,      0.4995,      0.5005,      0.5015,      0.5025,      0.5035,\n",
       "            0.5045,     0.50551,     0.50651,     0.50751,     0.50851,     0.50951,     0.51051,     0.51151,     0.51251,     0.51351,     0.51451,     0.51552,     0.51652,     0.51752,     0.51852,     0.51952,     0.52052,     0.52152,     0.52252,     0.52352,     0.52452,     0.52553,     0.52653,     0.52753,\n",
       "           0.52853,     0.52953,     0.53053,     0.53153,     0.53253,     0.53353,     0.53453,     0.53554,     0.53654,     0.53754,     0.53854,     0.53954,     0.54054,     0.54154,     0.54254,     0.54354,     0.54454,     0.54555,     0.54655,     0.54755,     0.54855,     0.54955,     0.55055,     0.55155,\n",
       "           0.55255,     0.55355,     0.55455,     0.55556,     0.55656,     0.55756,     0.55856,     0.55956,     0.56056,     0.56156,     0.56256,     0.56356,     0.56456,     0.56557,     0.56657,     0.56757,     0.56857,     0.56957,     0.57057,     0.57157,     0.57257,     0.57357,     0.57457,     0.57558,\n",
       "           0.57658,     0.57758,     0.57858,     0.57958,     0.58058,     0.58158,     0.58258,     0.58358,     0.58458,     0.58559,     0.58659,     0.58759,     0.58859,     0.58959,     0.59059,     0.59159,     0.59259,     0.59359,     0.59459,      0.5956,      0.5966,      0.5976,      0.5986,      0.5996,\n",
       "            0.6006,      0.6016,      0.6026,      0.6036,      0.6046,     0.60561,     0.60661,     0.60761,     0.60861,     0.60961,     0.61061,     0.61161,     0.61261,     0.61361,     0.61461,     0.61562,     0.61662,     0.61762,     0.61862,     0.61962,     0.62062,     0.62162,     0.62262,     0.62362,\n",
       "           0.62462,     0.62563,     0.62663,     0.62763,     0.62863,     0.62963,     0.63063,     0.63163,     0.63263,     0.63363,     0.63463,     0.63564,     0.63664,     0.63764,     0.63864,     0.63964,     0.64064,     0.64164,     0.64264,     0.64364,     0.64464,     0.64565,     0.64665,     0.64765,\n",
       "           0.64865,     0.64965,     0.65065,     0.65165,     0.65265,     0.65365,     0.65465,     0.65566,     0.65666,     0.65766,     0.65866,     0.65966,     0.66066,     0.66166,     0.66266,     0.66366,     0.66466,     0.66567,     0.66667,     0.66767,     0.66867,     0.66967,     0.67067,     0.67167,\n",
       "           0.67267,     0.67367,     0.67467,     0.67568,     0.67668,     0.67768,     0.67868,     0.67968,     0.68068,     0.68168,     0.68268,     0.68368,     0.68468,     0.68569,     0.68669,     0.68769,     0.68869,     0.68969,     0.69069,     0.69169,     0.69269,     0.69369,     0.69469,      0.6957,\n",
       "            0.6967,      0.6977,      0.6987,      0.6997,      0.7007,      0.7017,      0.7027,      0.7037,      0.7047,     0.70571,     0.70671,     0.70771,     0.70871,     0.70971,     0.71071,     0.71171,     0.71271,     0.71371,     0.71471,     0.71572,     0.71672,     0.71772,     0.71872,     0.71972,\n",
       "           0.72072,     0.72172,     0.72272,     0.72372,     0.72472,     0.72573,     0.72673,     0.72773,     0.72873,     0.72973,     0.73073,     0.73173,     0.73273,     0.73373,     0.73473,     0.73574,     0.73674,     0.73774,     0.73874,     0.73974,     0.74074,     0.74174,     0.74274,     0.74374,\n",
       "           0.74474,     0.74575,     0.74675,     0.74775,     0.74875,     0.74975,     0.75075,     0.75175,     0.75275,     0.75375,     0.75475,     0.75576,     0.75676,     0.75776,     0.75876,     0.75976,     0.76076,     0.76176,     0.76276,     0.76376,     0.76476,     0.76577,     0.76677,     0.76777,\n",
       "           0.76877,     0.76977,     0.77077,     0.77177,     0.77277,     0.77377,     0.77477,     0.77578,     0.77678,     0.77778,     0.77878,     0.77978,     0.78078,     0.78178,     0.78278,     0.78378,     0.78478,     0.78579,     0.78679,     0.78779,     0.78879,     0.78979,     0.79079,     0.79179,\n",
       "           0.79279,     0.79379,     0.79479,      0.7958,      0.7968,      0.7978,      0.7988,      0.7998,      0.8008,      0.8018,      0.8028,      0.8038,      0.8048,     0.80581,     0.80681,     0.80781,     0.80881,     0.80981,     0.81081,     0.81181,     0.81281,     0.81381,     0.81481,     0.81582,\n",
       "           0.81682,     0.81782,     0.81882,     0.81982,     0.82082,     0.82182,     0.82282,     0.82382,     0.82482,     0.82583,     0.82683,     0.82783,     0.82883,     0.82983,     0.83083,     0.83183,     0.83283,     0.83383,     0.83483,     0.83584,     0.83684,     0.83784,     0.83884,     0.83984,\n",
       "           0.84084,     0.84184,     0.84284,     0.84384,     0.84484,     0.84585,     0.84685,     0.84785,     0.84885,     0.84985,     0.85085,     0.85185,     0.85285,     0.85385,     0.85485,     0.85586,     0.85686,     0.85786,     0.85886,     0.85986,     0.86086,     0.86186,     0.86286,     0.86386,\n",
       "           0.86486,     0.86587,     0.86687,     0.86787,     0.86887,     0.86987,     0.87087,     0.87187,     0.87287,     0.87387,     0.87487,     0.87588,     0.87688,     0.87788,     0.87888,     0.87988,     0.88088,     0.88188,     0.88288,     0.88388,     0.88488,     0.88589,     0.88689,     0.88789,\n",
       "           0.88889,     0.88989,     0.89089,     0.89189,     0.89289,     0.89389,     0.89489,      0.8959,      0.8969,      0.8979,      0.8989,      0.8999,      0.9009,      0.9019,      0.9029,      0.9039,      0.9049,     0.90591,     0.90691,     0.90791,     0.90891,     0.90991,     0.91091,     0.91191,\n",
       "           0.91291,     0.91391,     0.91491,     0.91592,     0.91692,     0.91792,     0.91892,     0.91992,     0.92092,     0.92192,     0.92292,     0.92392,     0.92492,     0.92593,     0.92693,     0.92793,     0.92893,     0.92993,     0.93093,     0.93193,     0.93293,     0.93393,     0.93493,     0.93594,\n",
       "           0.93694,     0.93794,     0.93894,     0.93994,     0.94094,     0.94194,     0.94294,     0.94394,     0.94494,     0.94595,     0.94695,     0.94795,     0.94895,     0.94995,     0.95095,     0.95195,     0.95295,     0.95395,     0.95495,     0.95596,     0.95696,     0.95796,     0.95896,     0.95996,\n",
       "           0.96096,     0.96196,     0.96296,     0.96396,     0.96496,     0.96597,     0.96697,     0.96797,     0.96897,     0.96997,     0.97097,     0.97197,     0.97297,     0.97397,     0.97497,     0.97598,     0.97698,     0.97798,     0.97898,     0.97998,     0.98098,     0.98198,     0.98298,     0.98398,\n",
       "           0.98498,     0.98599,     0.98699,     0.98799,     0.98899,     0.98999,     0.99099,     0.99199,     0.99299,     0.99399,     0.99499,       0.996,       0.997,       0.998,       0.999,           1]), array([[    0.99908,     0.99908,     0.99898,     0.99888,     0.99888,     0.99888,     0.99883,     0.99878,     0.99873,     0.99863,     0.99853,     0.99842,     0.99842,     0.99837,     0.99827,     0.99827,     0.99827,     0.99827,     0.99822,     0.99822,     0.99817,     0.99817,     0.99812,\n",
       "            0.99812,     0.99802,     0.99786,     0.99781,     0.99781,     0.99781,     0.99776,     0.99766,     0.99756,     0.99741,     0.99736,      0.9973,     0.99725,      0.9972,     0.99715,     0.99705,     0.99705,     0.99705,     0.99705,     0.99705,     0.99705,     0.99699,     0.99685,\n",
       "             0.9968,     0.99675,     0.99664,     0.99654,     0.99649,     0.99649,     0.99649,     0.99649,     0.99644,     0.99644,     0.99644,     0.99644,     0.99634,     0.99624,     0.99619,     0.99608,     0.99603,     0.99598,     0.99598,     0.99598,     0.99593,     0.99593,     0.99593,\n",
       "            0.99588,     0.99578,     0.99578,     0.99578,     0.99573,     0.99568,     0.99563,     0.99563,     0.99558,     0.99553,     0.99547,     0.99542,     0.99532,     0.99532,     0.99532,     0.99522,     0.99517,     0.99507,     0.99502,     0.99497,     0.99497,     0.99481,     0.99481,\n",
       "            0.99476,     0.99476,     0.99461,     0.99461,     0.99456,     0.99456,     0.99451,     0.99451,     0.99436,     0.99436,     0.99436,     0.99436,     0.99436,      0.9943,      0.9943,     0.99425,     0.99425,     0.99425,     0.99425,     0.99425,      0.9942,      0.9941,     0.99405,\n",
       "             0.9939,     0.99385,     0.99385,     0.99385,     0.99385,      0.9938,     0.99375,     0.99375,     0.99375,     0.99375,     0.99375,     0.99369,     0.99359,     0.99354,     0.99344,     0.99344,     0.99334,     0.99329,     0.99324,     0.99324,     0.99319,     0.99314,     0.99303,\n",
       "            0.99298,     0.99293,     0.99281,     0.99268,     0.99266,     0.99258,     0.99258,     0.99247,     0.99247,     0.99237,     0.99227,     0.99227,     0.99222,     0.99217,     0.99217,     0.99217,     0.99217,     0.99217,     0.99217,     0.99217,     0.99212,     0.99212,     0.99212,\n",
       "            0.99212,     0.99207,     0.99197,     0.99197,     0.99197,     0.99184,     0.99181,     0.99181,     0.99171,     0.99161,     0.99146,     0.99142,     0.99141,     0.99133,     0.99125,     0.99115,      0.9911,     0.99105,       0.991,      0.9909,     0.99083,      0.9908,     0.99075,\n",
       "            0.99075,      0.9907,     0.99064,     0.99054,     0.99044,     0.99044,     0.99039,     0.99039,     0.99019,     0.99014,     0.98988,     0.98978,     0.98973,     0.98973,     0.98953,     0.98942,     0.98937,     0.98927,     0.98917,     0.98907,     0.98902,     0.98891,     0.98886,\n",
       "            0.98871,     0.98866,     0.98861,     0.98849,      0.9883,      0.9882,      0.9882,      0.9882,      0.9881,     0.98805,       0.988,      0.9879,      0.9879,      0.9878,     0.98776,     0.98759,     0.98759,     0.98759,     0.98754,     0.98749,     0.98734,     0.98726,     0.98719,\n",
       "            0.98714,     0.98714,     0.98703,     0.98688,     0.98678,     0.98668,     0.98658,     0.98647,     0.98642,     0.98632,     0.98627,     0.98627,     0.98617,     0.98612,     0.98602,     0.98602,     0.98591,     0.98586,     0.98579,     0.98574,     0.98566,     0.98556,     0.98551,\n",
       "            0.98536,     0.98536,     0.98525,     0.98525,      0.9851,     0.98505,     0.98505,     0.98495,     0.98495,     0.98495,     0.98481,      0.9848,     0.98473,     0.98459,     0.98444,     0.98414,     0.98403,     0.98388,     0.98383,     0.98363,     0.98358,     0.98347,     0.98347,\n",
       "            0.98342,     0.98332,     0.98312,     0.98307,     0.98286,     0.98276,     0.98271,     0.98259,     0.98245,     0.98236,     0.98234,      0.9822,     0.98215,      0.9821,       0.982,     0.98195,     0.98195,      0.9819,      0.9819,     0.98164,     0.98139,     0.98128,     0.98119,\n",
       "            0.98105,     0.98083,     0.98074,     0.98058,     0.98034,     0.98032,     0.98017,     0.98002,     0.97986,     0.97981,     0.97974,     0.97966,     0.97966,     0.97951,     0.97946,     0.97936,      0.9793,     0.97919,       0.979,      0.9789,      0.9789,     0.97875,     0.97859,\n",
       "            0.97859,     0.97855,     0.97839,     0.97834,     0.97824,     0.97814,     0.97808,     0.97788,     0.97788,     0.97775,     0.97747,     0.97744,     0.97732,     0.97719,     0.97691,     0.97671,     0.97661,      0.9765,     0.97641,     0.97636,      0.9763,     0.97625,     0.97605,\n",
       "            0.97595,      0.9759,      0.9758,      0.9758,     0.97554,     0.97549,     0.97544,     0.97529,     0.97519,     0.97503,     0.97503,     0.97488,     0.97483,     0.97468,     0.97467,     0.97442,     0.97432,     0.97413,     0.97402,     0.97402,     0.97402,     0.97391,     0.97381,\n",
       "            0.97362,     0.97356,     0.97336,      0.9732,      0.9731,     0.97276,     0.97264,     0.97239,     0.97229,     0.97219,     0.97208,     0.97183,     0.97173,     0.97161,     0.97132,     0.97117,     0.97102,      0.9709,     0.97086,     0.97071,     0.97064,     0.97046,     0.97035,\n",
       "            0.97015,        0.97,      0.9698,     0.96964,     0.96959,     0.96949,     0.96943,     0.96939,     0.96934,     0.96913,     0.96898,     0.96877,     0.96863,     0.96847,     0.96832,     0.96808,      0.9679,     0.96772,     0.96761,      0.9673,      0.9672,     0.96716,     0.96669,\n",
       "            0.96664,     0.96659,     0.96634,     0.96613,     0.96611,     0.96569,     0.96538,     0.96515,     0.96486,     0.96471,     0.96451,     0.96427,     0.96405,     0.96385,     0.96343,     0.96319,     0.96296,     0.96273,     0.96261,     0.96227,     0.96207,     0.96193,     0.96156,\n",
       "            0.96139,      0.9612,     0.96107,     0.96068,     0.96049,     0.96034,     0.95998,      0.9598,     0.95963,     0.95947,     0.95947,      0.9593,      0.9591,     0.95891,     0.95869,     0.95861,     0.95859,     0.95846,      0.9583,     0.95813,     0.95764,     0.95734,     0.95712,\n",
       "            0.95689,     0.95658,     0.95632,     0.95576,     0.95563,     0.95556,      0.9552,     0.95492,     0.95459,     0.95418,     0.95401,     0.95361,     0.95347,     0.95327,     0.95295,     0.95261,     0.95241,     0.95225,      0.9521,       0.952,     0.95179,     0.95169,     0.95128,\n",
       "            0.95118,     0.95099,     0.95083,     0.95057,     0.95042,     0.94986,     0.94976,     0.94962,     0.94928,      0.9491,     0.94886,     0.94848,     0.94819,     0.94798,     0.94793,     0.94782,     0.94762,     0.94725,     0.94706,     0.94677,     0.94625,       0.946,     0.94573,\n",
       "            0.94554,     0.94534,     0.94513,     0.94488,     0.94452,     0.94442,     0.94435,     0.94414,     0.94376,     0.94361,      0.9433,     0.94306,     0.94285,     0.94247,     0.94202,     0.94188,     0.94168,     0.94129,     0.94111,     0.94086,      0.9403,     0.93991,     0.93933,\n",
       "            0.93886,     0.93847,     0.93812,     0.93766,     0.93748,      0.9373,     0.93705,     0.93679,     0.93663,     0.93622,     0.93593,     0.93583,     0.93573,      0.9355,     0.93506,     0.93464,     0.93446,     0.93381,     0.93344,     0.93304,     0.93242,      0.9319,     0.93143,\n",
       "            0.93097,     0.93052,     0.93043,     0.93029,     0.93008,     0.92959,      0.9292,     0.92871,     0.92821,     0.92767,     0.92728,     0.92678,     0.92622,     0.92573,     0.92542,     0.92492,     0.92431,     0.92391,     0.92373,     0.92324,     0.92272,     0.92226,     0.92162,\n",
       "            0.92103,     0.92043,     0.91982,     0.91952,     0.91895,     0.91857,     0.91808,     0.91757,     0.91681,     0.91624,     0.91546,     0.91489,     0.91404,     0.91338,     0.91259,     0.91187,     0.91145,     0.91122,     0.91063,     0.91005,      0.9095,     0.90898,     0.90839,\n",
       "            0.90806,     0.90778,       0.907,     0.90669,      0.9059,     0.90552,     0.90509,     0.90468,     0.90373,     0.90288,     0.90226,     0.90161,     0.90079,      0.9002,     0.89923,      0.8984,     0.89764,     0.89698,     0.89632,     0.89551,       0.895,      0.8943,      0.8936,\n",
       "            0.89296,     0.89238,     0.89128,     0.89048,     0.88975,     0.88923,      0.8882,     0.88729,     0.88645,     0.88588,     0.88551,     0.88483,     0.88396,     0.88321,     0.88196,     0.88059,     0.87948,     0.87856,     0.87769,     0.87653,     0.87575,     0.87486,     0.87419,\n",
       "            0.87298,      0.8719,     0.87096,     0.87002,     0.86858,     0.86723,     0.86613,     0.86503,     0.86393,     0.86275,     0.86162,     0.86046,     0.85918,     0.85799,     0.85664,     0.85555,     0.85427,     0.85315,     0.85202,     0.85066,     0.84922,     0.84816,     0.84676,\n",
       "            0.84543,     0.84448,     0.84331,     0.84242,     0.84103,     0.83971,     0.83855,     0.83708,     0.83563,     0.83434,      0.8325,     0.83148,      0.8292,     0.82759,     0.82654,     0.82547,     0.82398,     0.82282,      0.8211,     0.81956,     0.81788,     0.81632,     0.81502,\n",
       "            0.81325,     0.81185,     0.81005,     0.80757,     0.80565,      0.8036,      0.8022,     0.79991,     0.79825,     0.79571,     0.79387,     0.79206,     0.78994,      0.7882,     0.78644,     0.78435,     0.78195,     0.78032,     0.77816,     0.77618,     0.77365,     0.77175,     0.76947,\n",
       "            0.76695,     0.76405,     0.76155,     0.75903,     0.75623,     0.75387,     0.75182,     0.74913,     0.74621,     0.74365,     0.74129,     0.73855,     0.73574,     0.73375,     0.73032,     0.72719,     0.72435,     0.72198,     0.71857,     0.71509,     0.71148,      0.7087,     0.70523,\n",
       "            0.70173,     0.69865,     0.69555,     0.69305,     0.68996,      0.6863,     0.68228,     0.67891,     0.67497,     0.67124,     0.66731,     0.66205,     0.65847,     0.65509,     0.65105,     0.64688,     0.64262,      0.6384,     0.63394,     0.62924,       0.625,     0.61952,     0.61446,\n",
       "            0.60974,     0.60538,     0.60105,     0.59621,     0.59098,     0.58521,     0.57992,     0.57521,      0.5698,     0.56393,     0.55789,     0.55187,      0.5474,     0.54207,     0.53714,     0.53211,     0.52633,     0.52053,     0.51473,     0.50995,     0.50394,     0.49812,     0.49272,\n",
       "            0.48667,     0.48073,     0.47386,     0.46767,     0.46143,     0.45503,     0.44878,     0.44273,     0.43657,     0.43065,     0.42569,     0.41981,     0.41389,     0.40823,     0.40192,     0.39692,     0.39028,     0.38403,     0.37739,     0.37064,     0.36352,     0.35688,     0.35052,\n",
       "            0.34394,     0.33674,     0.33029,     0.32327,     0.31613,     0.31029,     0.30478,     0.29996,     0.29322,     0.28761,     0.28169,      0.2756,     0.26978,     0.26368,     0.25659,     0.25012,     0.24372,     0.23713,     0.23098,     0.22448,     0.21842,     0.21284,     0.20711,\n",
       "            0.20114,     0.19566,     0.19041,     0.18524,     0.17962,      0.1745,     0.16903,       0.164,     0.15912,     0.15351,     0.14838,     0.14321,     0.13828,     0.13322,     0.12892,     0.12501,     0.12039,     0.11582,     0.11148,     0.10765,     0.10361,    0.099487,    0.095053,\n",
       "           0.090611,    0.087051,    0.083793,    0.080608,    0.077096,    0.073625,    0.070698,    0.067912,    0.064973,    0.062562,    0.058932,    0.056381,    0.054196,    0.052147,    0.049386,    0.046374,    0.043987,    0.041641,    0.039137,    0.036938,    0.035045,    0.032895,    0.031114,\n",
       "            0.02975,     0.02808,    0.026494,    0.024684,    0.023178,    0.022046,    0.020876,    0.019306,     0.01817,    0.016654,    0.015619,    0.014541,    0.014054,       0.013,    0.012169,    0.011477,    0.010203,   0.0096111,   0.0082545,    0.007389,   0.0068768,    0.006355,   0.0058656,\n",
       "          0.0052541,   0.0047529,   0.0042804,   0.0039015,   0.0036184,   0.0029215,   0.0026083,   0.0024147,   0.0019729,   0.0018417,   0.0016653,   0.0013951,   0.0012048,   0.0010447,  0.00097651,  0.00085717,  0.00081097,  0.00072847,  0.00063195,  0.00050682,  0.00048922,  0.00047162,  0.00043259,\n",
       "         0.00032965,   0.0002659,  0.00023174,  0.00020616,  0.00019963,  0.00019542,   0.0001912,  0.00018698,  0.00018276,  0.00017854,  0.00017432,   0.0001701,  0.00016588,  0.00016166,  0.00015744,  0.00015322,  0.00013732,  0.00011919,  0.00010122,  8.7679e-05,  7.4143e-05,  6.0606e-05,           0,\n",
       "                  0,           0,           0,           0,           0,           0,           0,           0,           0,           0,           0,           0,           0,           0,           0,           0,           0,           0,           0,           0,           0,           0,           0,\n",
       "                  0,           0,           0,           0,           0,           0,           0,           0,           0,           0,           0,           0,           0,           0,           0,           0,           0,           0,           0,           0,           0,           0,           0,\n",
       "                  0,           0,           0,           0,           0,           0,           0,           0,           0,           0,           0]]), 'Confidence', 'Recall']]\n",
       "fitness: 0.733187655138764\n",
       "keys: ['metrics/precision(B)', 'metrics/recall(B)', 'metrics/mAP50(B)', 'metrics/mAP50-95(B)']\n",
       "maps: array([    0.70537])\n",
       "names: {0: 'Palm-Tree'}\n",
       "plot: True\n",
       "results_dict: {'metrics/precision(B)': 0.9323164853222563, 'metrics/recall(B)': 0.9665927033713574, 'metrics/mAP50(B)': 0.9835826224918676, 'metrics/mAP50-95(B)': 0.7053659920995303, 'fitness': 0.733187655138764}\n",
       "save_dir: PosixPath('/media/dartoyo/SSD2P2/programming/python/palm-tree-detection/runs/detect/train18')\n",
       "speed: {'preprocess': 0.3545861265975046, 'inference': 6.882770965088448, 'loss': 0.0013847873635488015, 'postprocess': 1.4344110880812555}\n",
       "task: 'detect'"
      ]
     },
     "execution_count": 17,
     "metadata": {},
     "output_type": "execute_result"
    }
   ],
   "source": [
    "model = YOLO('yolov8n.pt')\n",
    "# Train the model\n",
    "model.train(data=data, \n",
    "            epochs=15, \n",
    "            imgsz=640, \n",
    "            batch=3,\n",
    "            device=0)\n"
   ]
  },
  {
   "cell_type": "markdown",
   "metadata": {},
   "source": [
    "## Counting palm trees in image sample and Evaluation"
   ]
  },
  {
   "cell_type": "code",
   "execution_count": 43,
   "metadata": {},
   "outputs": [],
   "source": [
    "img_source = f\"{absolute_path}/dataset/palm-tree.jpeg\""
   ]
  },
  {
   "cell_type": "code",
   "execution_count": 35,
   "metadata": {},
   "outputs": [],
   "source": [
    "old_model = YOLO(f'{absolute_path}/runs/detect/train16/weights/best.pt')"
   ]
  },
  {
   "cell_type": "code",
   "execution_count": 36,
   "metadata": {},
   "outputs": [
    {
     "name": "stdout",
     "output_type": "stream",
     "text": [
      "\n",
      "image 1/1 /media/dartoyo/SSD2P2/programming/python/palm-tree-detection/dataset/palm-tree.jpeg: 640x576 300 Palm-Trees, 7.8ms\n",
      "Speed: 3.4ms preprocess, 7.8ms inference, 1.7ms postprocess per image at shape (1, 3, 640, 576)\n",
      "Results saved to \u001b[1m/media/dartoyo/SSD2P2/programming/python/palm-tree-detection/runs/detect/predict\u001b[0m\n",
      "1 label saved to /media/dartoyo/SSD2P2/programming/python/palm-tree-detection/runs/detect/predict/labels\n"
     ]
    }
   ],
   "source": [
    "sample_palm_tree = old_model(source=img_source, save=True, save_txt=True)"
   ]
  },
  {
   "cell_type": "code",
   "execution_count": 27,
   "metadata": {},
   "outputs": [
    {
     "name": "stdout",
     "output_type": "stream",
     "text": [
      "\n",
      "image 1/1 /media/dartoyo/SSD2P2/programming/python/palm-tree-detection/dataset/palm-tree.jpeg: 640x576 165 Palm-Trees, 7.5ms\n",
      "Speed: 19.5ms preprocess, 7.5ms inference, 1.0ms postprocess per image at shape (1, 3, 640, 576)\n",
      "Results saved to \u001b[1m/media/dartoyo/SSD2P2/programming/python/palm-tree-detection/runs/detect/train183\u001b[0m\n",
      "1 label saved to /media/dartoyo/SSD2P2/programming/python/palm-tree-detection/runs/detect/train183/labels\n"
     ]
    }
   ],
   "source": [
    "sample_palm_tree = model(source=img_source, save=True, save_txt=True)"
   ]
  },
  {
   "cell_type": "code",
   "execution_count": 37,
   "metadata": {},
   "outputs": [],
   "source": [
    "# Extract detection results\n",
    "boxes = sample_palm_tree[0].boxes.xyxy\n",
    "confidences = sample_palm_tree[0].boxes.conf\n",
    "classes = sample_palm_tree[0].boxes.cls\n",
    "names = sample_palm_tree[0].names\n"
   ]
  },
  {
   "cell_type": "code",
   "execution_count": 44,
   "metadata": {},
   "outputs": [],
   "source": [
    "palm_tree_image = cv2.imread(img_source)"
   ]
  },
  {
   "cell_type": "code",
   "execution_count": 49,
   "metadata": {},
   "outputs": [],
   "source": [
    "# Define random colors for each class\n",
    "colors = np.random.randint(0, 255, size=(len(names), 4), dtype=\"uint8\")"
   ]
  },
  {
   "cell_type": "code",
   "execution_count": 58,
   "metadata": {},
   "outputs": [],
   "source": [
    "#changin the box\n",
    "for i, box in enumerate(boxes):\n",
    "    # Extract box coordinates and convert to integers\n",
    "    x_min, y_min, x_max, y_max = map(int, box)\n",
    "\n",
    "    # Get class confidence\n",
    "    class_id = int(classes[i])\n",
    "    confidence = confidences[i]\n",
    "\n",
    "    # Choose a color for the class\n",
    "    # color = [int(c) for c in colors[class_id]]\n",
    "    color = (252, 115, 3)\n",
    "    # Draw the bounding box\n",
    "    cv2.rectangle(palm_tree_image, (x_min, y_min), (x_max, y_max), color, thickness=6)\n",
    "\n",
    "    # Create the label text\n",
    "    label = f\"confidence:{confidence:.2f}\"\n",
    "\n",
    "    # Get the text size for positioning\n",
    "    label_size, _ = cv2.getTextSize(label, cv2.FONT_HERSHEY_SIMPLEX, 0.5, 2)\n",
    "    label_y_min = max(y_min, label_size[1] + 10)  # Ensure label doesn't go outside the image\n",
    "\n",
    "    # Draw the label background\n",
    "    cv2.rectangle(palm_tree_image, (x_min, y_min - label_size[1] - 10), (x_min + label_size[0], y_min), color, -1)\n",
    "\n",
    "    # Put the label on the image\n",
    "    cv2.putText(palm_tree_image, label, (x_min, y_min - 5), cv2.FONT_HERSHEY_SIMPLEX, 0.5, (255, 255, 255), thickness=1)\n"
   ]
  },
  {
   "cell_type": "code",
   "execution_count": 59,
   "metadata": {},
   "outputs": [
    {
     "data": {
      "text/plain": [
       "True"
      ]
     },
     "execution_count": 59,
     "metadata": {},
     "output_type": "execute_result"
    }
   ],
   "source": [
    "im_out_path = f'{absolute_path}/runs/detect/palm_tree_sample/new_palm_tree4.jpg'\n",
    "cv2.imwrite(im_out_path, palm_tree_image)\n"
   ]
  },
  {
   "cell_type": "markdown",
   "metadata": {},
   "source": [
    "### image result\n",
    "\n",
    "<img src=\"/media/dartoyo/SSD2P2/programming/python/palm-tree-detection/runs/detect/palm_tree_sample/new_palm_tree.jpg\">"
   ]
  },
  {
   "cell_type": "code",
   "execution_count": 42,
   "metadata": {},
   "outputs": [
    {
     "name": "stdout",
     "output_type": "stream",
     "text": [
      "Palm tree detected: 300\n"
     ]
    }
   ],
   "source": [
    "print(f\"Palm tree detected: {len(sample_palm_tree[0].boxes)}\")"
   ]
  },
  {
   "cell_type": "code",
   "execution_count": 77,
   "metadata": {},
   "outputs": [
    {
     "name": "stdout",
     "output_type": "stream",
     "text": [
      "Ultralytics 8.3.59 🚀 Python-3.11.11 torch-2.5.1 CUDA:0 (NVIDIA GeForce GTX 1650, 3904MiB)\n"
     ]
    },
    {
     "name": "stderr",
     "output_type": "stream",
     "text": [
      "\u001b[34m\u001b[1mval: \u001b[0mScanning /media/dartoyo/SSD2P2/programming/python/palm-tree-detection/dataset/valid/labels.cache... 219 images, 0 backgrounds, 0 corrupt: 100%|██████████| 219/219 [00:00<?, ?it/s]\n",
      "                 Class     Images  Instances      Box(P          R      mAP50  mAP50-95): 100%|██████████| 28/28 [00:07<00:00,  3.61it/s]\n"
     ]
    },
    {
     "name": "stdout",
     "output_type": "stream",
     "text": [
      "                   all        219      19666      0.936      0.963      0.984      0.699\n",
      "Speed: 0.4ms preprocess, 6.8ms inference, 0.0ms loss, 2.9ms postprocess per image\n",
      "Results saved to \u001b[1m/media/dartoyo/SSD2P2/programming/python/palm-tree-detection/runs/detect/train166\u001b[0m\n"
     ]
    }
   ],
   "source": [
    "model_result = model.val()"
   ]
  },
  {
   "cell_type": "code",
   "execution_count": 83,
   "metadata": {},
   "outputs": [
    {
     "name": "stdout",
     "output_type": "stream",
     "text": [
      "Ultralytics 8.3.59 🚀 Python-3.11.11 torch-2.5.1 CPU (11th Gen Intel Core(TM) i5-11400H 2.70GHz)\n",
      "\n",
      "\u001b[34m\u001b[1mPyTorch:\u001b[0m starting from '/media/dartoyo/SSD2P2/programming/python/palm-tree-detection/runs/detect/train16/weights/best.pt' with input shape (1, 3, 640, 640) BCHW and output shape(s) (1, 5, 8400) (6.0 MB)\n",
      "\u001b[31m\u001b[1mrequirements:\u001b[0m Ultralytics requirements ['onnx>=1.12.0', 'onnxslim', 'onnxruntime-gpu'] not found, attempting AutoUpdate...\n",
      "Collecting onnx>=1.12.0\n",
      "  Downloading onnx-1.17.0-cp311-cp311-manylinux_2_17_x86_64.manylinux2014_x86_64.whl.metadata (16 kB)\n",
      "Collecting onnxslim\n",
      "  Downloading onnxslim-0.1.47-py3-none-any.whl.metadata (4.4 kB)\n",
      "Collecting onnxruntime-gpu\n",
      "  Downloading onnxruntime_gpu-1.20.1-cp311-cp311-manylinux_2_27_x86_64.manylinux_2_28_x86_64.whl.metadata (4.5 kB)\n",
      "Requirement already satisfied: numpy>=1.20 in ./.conda-palm-tree-detection-with-yolov8/lib/python3.11/site-packages (from onnx>=1.12.0) (1.26.4)\n",
      "Collecting protobuf>=3.20.2 (from onnx>=1.12.0)\n",
      "  Downloading protobuf-5.29.3-cp38-abi3-manylinux2014_x86_64.whl.metadata (592 bytes)\n",
      "Requirement already satisfied: sympy in ./.conda-palm-tree-detection-with-yolov8/lib/python3.11/site-packages (from onnxslim) (1.13.3)\n",
      "Requirement already satisfied: packaging in ./.conda-palm-tree-detection-with-yolov8/lib/python3.11/site-packages (from onnxslim) (24.2)\n",
      "Collecting coloredlogs (from onnxruntime-gpu)\n",
      "  Downloading coloredlogs-15.0.1-py2.py3-none-any.whl.metadata (12 kB)\n",
      "Collecting flatbuffers (from onnxruntime-gpu)\n",
      "  Downloading flatbuffers-24.12.23-py2.py3-none-any.whl.metadata (876 bytes)\n",
      "Collecting humanfriendly>=9.1 (from coloredlogs->onnxruntime-gpu)\n",
      "  Downloading humanfriendly-10.0-py2.py3-none-any.whl.metadata (9.2 kB)\n",
      "Requirement already satisfied: mpmath<1.4,>=1.1.0 in ./.conda-palm-tree-detection-with-yolov8/lib/python3.11/site-packages (from sympy->onnxslim) (1.3.0)\n",
      "Downloading onnx-1.17.0-cp311-cp311-manylinux_2_17_x86_64.manylinux2014_x86_64.whl (16.0 MB)\n",
      "\u001b[2K   \u001b[90m━━━━━━━━━━━━━━━━━━━━━━━━━━━━━━━━━━━━━━━━\u001b[0m \u001b[32m16.0/16.0 MB\u001b[0m \u001b[31m2.5 MB/s\u001b[0m eta \u001b[36m0:00:00\u001b[0m00:01\u001b[0m00:01\u001b[0m\n",
      "\u001b[?25hDownloading onnxslim-0.1.47-py3-none-any.whl (142 kB)\n",
      "Downloading onnxruntime_gpu-1.20.1-cp311-cp311-manylinux_2_27_x86_64.manylinux_2_28_x86_64.whl (291.5 MB)\n",
      "\u001b[2K   \u001b[90m━━━━━━━━━━━━━━━━━━━━━━━━━━━━━━━━━━━━━━━━\u001b[0m \u001b[32m291.5/291.5 MB\u001b[0m \u001b[31m2.4 MB/s\u001b[0m eta \u001b[36m0:00:00\u001b[0m00:01\u001b[0m00:04\u001b[0m\n",
      "\u001b[?25hDownloading protobuf-5.29.3-cp38-abi3-manylinux2014_x86_64.whl (319 kB)\n",
      "Downloading coloredlogs-15.0.1-py2.py3-none-any.whl (46 kB)\n",
      "Downloading flatbuffers-24.12.23-py2.py3-none-any.whl (30 kB)\n",
      "Downloading humanfriendly-10.0-py2.py3-none-any.whl (86 kB)\n",
      "Installing collected packages: flatbuffers, protobuf, humanfriendly, onnx, coloredlogs, onnxslim, onnxruntime-gpu\n",
      "Successfully installed coloredlogs-15.0.1 flatbuffers-24.12.23 humanfriendly-10.0 onnx-1.17.0 onnxruntime-gpu-1.20.1 onnxslim-0.1.47 protobuf-5.29.3\n",
      "\n",
      "\u001b[31m\u001b[1mrequirements:\u001b[0m AutoUpdate success ✅ 150.9s, installed 3 packages: ['onnx>=1.12.0', 'onnxslim', 'onnxruntime-gpu']\n",
      "\u001b[31m\u001b[1mrequirements:\u001b[0m ⚠️ \u001b[1mRestart runtime or rerun command for updates to take effect\u001b[0m\n",
      "\n",
      "\n",
      "\u001b[34m\u001b[1mONNX:\u001b[0m starting export with onnx 1.17.0 opset 19...\n",
      "\u001b[34m\u001b[1mONNX:\u001b[0m slimming with onnxslim 0.1.47...\n",
      "\u001b[34m\u001b[1mONNX:\u001b[0m export success ✅ 152.3s, saved as '/media/dartoyo/SSD2P2/programming/python/palm-tree-detection/runs/detect/train16/weights/best.onnx' (11.7 MB)\n",
      "\n",
      "Export complete (154.1s)\n",
      "Results saved to \u001b[1m/media/dartoyo/SSD2P2/programming/python/palm-tree-detection/runs/detect/train16/weights\u001b[0m\n",
      "Predict:         yolo predict task=detect model=/media/dartoyo/SSD2P2/programming/python/palm-tree-detection/runs/detect/train16/weights/best.onnx imgsz=640  \n",
      "Validate:        yolo val task=detect model=/media/dartoyo/SSD2P2/programming/python/palm-tree-detection/runs/detect/train16/weights/best.onnx imgsz=640 data=/media/dartoyo/SSD2P2/programming/python/palm-tree-detection/dataset/data.yaml  \n",
      "Visualize:       https://netron.app\n"
     ]
    },
    {
     "data": {
      "text/plain": [
       "'/media/dartoyo/SSD2P2/programming/python/palm-tree-detection/runs/detect/train16/weights/best.onnx'"
      ]
     },
     "execution_count": 83,
     "metadata": {},
     "output_type": "execute_result"
    }
   ],
   "source": [
    "#Exporting model\n",
    "\n",
    "model.export(format=\"onnx\") "
   ]
  },
  {
   "cell_type": "markdown",
   "metadata": {},
   "source": [
    "# Conclusion"
   ]
  },
  {
   "cell_type": "markdown",
   "metadata": {},
   "source": [
    "While the model trained with only 5 epoch, it still can recognize tha palm trees, though there are still wide area containing with palm tree were not detected. As the ```sample_palm_tree``` boxes are counted, the total palm tree detected by the model is 300 and the mean Average Precision calculated across Intersection over Union (IoU) thresholds from 0.5 to 0.95 (mAP50-95) result with 69.9% of avarage precision. \n",
    "\n",
    "\n",
    "\n",
    "I recognize that there's always room for improvement. In future work, I would explore different YOLOv8 variants, optimize training parameters, and evaluate the model's robustness on a broader range of datasets. I am confident that with further refinement, this system can become an even more valuable tool for palm tree detection.\n",
    "\n"
   ]
  }
 ],
 "metadata": {
  "kernelspec": {
   "display_name": "Python 3 (ipykernel)",
   "language": "python",
   "name": "python3"
  },
  "language_info": {
   "codemirror_mode": {
    "name": "ipython",
    "version": 3
   },
   "file_extension": ".py",
   "mimetype": "text/x-python",
   "name": "python",
   "nbconvert_exporter": "python",
   "pygments_lexer": "ipython3",
   "version": "3.11.11"
  }
 },
 "nbformat": 4,
 "nbformat_minor": 2
}
